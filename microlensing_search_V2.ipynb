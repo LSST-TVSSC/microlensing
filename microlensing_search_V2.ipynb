{
 "cells": [
  {
   "cell_type": "markdown",
   "id": "4703d404-1059-44c8-924b-b52547839bbe",
   "metadata": {},
   "source": [
    "# Search for Microlensing events in DP1"
   ]
  },
  {
   "cell_type": "code",
   "execution_count": 1,
   "id": "881445ed-db94-4b0b-bdea-b19ebd038e6f",
   "metadata": {
    "execution": {
     "iopub.execute_input": "2025-07-01T00:03:48.215063Z",
     "iopub.status.busy": "2025-07-01T00:03:48.214491Z",
     "iopub.status.idle": "2025-07-01T00:03:50.855246Z",
     "shell.execute_reply": "2025-07-01T00:03:50.854555Z",
     "shell.execute_reply.started": "2025-07-01T00:03:48.215042Z"
    }
   },
   "outputs": [],
   "source": [
    "import numpy as np\n",
    "import matplotlib.pyplot as plt\n",
    "from matplotlib.patches import Polygon\n",
    "import matplotlib.lines as mlines\n",
    "import itertools\n",
    "from astropy.coordinates import SkyCoord\n",
    "import astropy.units as u\n",
    "\n",
    "from lsst.rsp import get_tap_service\n",
    "from lsst.daf.butler import Butler\n",
    "import lsst.afw.display as afw_display\n",
    "import lsst.sphgeom as sphgeom\n",
    "import lsst.geom as geom\n",
    "from lsst.utils.plotting import (get_multiband_plot_colors,\n",
    "                                 get_multiband_plot_symbols,\n",
    "                                 get_multiband_plot_linestyles)\n",
    "import pandas as pd\n",
    "from scipy.optimize import minimize\n",
    "import warnings\n",
    "import weightedstats as ws"
   ]
  },
  {
   "cell_type": "code",
   "execution_count": 2,
   "id": "7ac46feb-3f21-47f3-a995-b0a6e6066bad",
   "metadata": {
    "execution": {
     "iopub.execute_input": "2025-07-01T00:03:50.856578Z",
     "iopub.status.busy": "2025-07-01T00:03:50.856099Z",
     "iopub.status.idle": "2025-07-01T00:03:50.897816Z",
     "shell.execute_reply": "2025-07-01T00:03:50.897122Z",
     "shell.execute_reply.started": "2025-07-01T00:03:50.856561Z"
    }
   },
   "outputs": [],
   "source": [
    "service = get_tap_service(\"tap\")\n",
    "assert service is not None"
   ]
  },
  {
   "cell_type": "code",
   "execution_count": 3,
   "id": "5f74de9a-5bbb-4f5a-8bbe-20c1d5c1f468",
   "metadata": {
    "execution": {
     "iopub.execute_input": "2025-07-01T00:03:50.898566Z",
     "iopub.status.busy": "2025-07-01T00:03:50.898388Z",
     "iopub.status.idle": "2025-07-01T00:03:51.291297Z",
     "shell.execute_reply": "2025-07-01T00:03:51.290635Z",
     "shell.execute_reply.started": "2025-07-01T00:03:50.898551Z"
    }
   },
   "outputs": [],
   "source": [
    "butler = Butler('dp1', collections=\"LSSTComCam/DP1\")\n",
    "assert butler is not None"
   ]
  },
  {
   "cell_type": "code",
   "execution_count": 4,
   "id": "8a624a1b-5dd6-48ba-923e-9cf0a1acdbd5",
   "metadata": {
    "execution": {
     "iopub.execute_input": "2025-07-01T00:03:51.292657Z",
     "iopub.status.busy": "2025-07-01T00:03:51.292221Z",
     "iopub.status.idle": "2025-07-01T00:03:51.295640Z",
     "shell.execute_reply": "2025-07-01T00:03:51.295058Z",
     "shell.execute_reply.started": "2025-07-01T00:03:51.292639Z"
    }
   },
   "outputs": [],
   "source": [
    "ra_cen = 95.0\n",
    "dec_cen = -25.0\n",
    "radius = 1.3\n",
    "region = sphgeom.Region.from_ivoa_pos(f\"CIRCLE {ra_cen} {dec_cen} {radius}\")"
   ]
  },
  {
   "cell_type": "code",
   "execution_count": 11,
   "id": "d043a9cd-9a70-47f6-9987-8274fa4939c9",
   "metadata": {
    "execution": {
     "iopub.execute_input": "2025-07-01T00:06:58.443721Z",
     "iopub.status.busy": "2025-07-01T00:06:58.443456Z",
     "iopub.status.idle": "2025-07-01T00:06:58.446784Z",
     "shell.execute_reply": "2025-07-01T00:06:58.446284Z",
     "shell.execute_reply.started": "2025-07-01T00:06:58.443704Z"
    }
   },
   "outputs": [],
   "source": [
    "query = f\"\"\"\n",
    "        SELECT\n",
    "  fsodo.diaObjectId,\n",
    "  fsodo.coord_ra,\n",
    "  fsodo.coord_dec,\n",
    "  COUNT(*) AS visit_count\n",
    "FROM dp1.ForcedSourceOnDiaObject AS fsodo\n",
    "JOIN dp1.Visit AS vis ON fsodo.visit = vis.visit\n",
    "WHERE\n",
    "  fsodo.band = 'r'\n",
    "  AND CONTAINS(\n",
    "    POINT('ICRS', fsodo.coord_ra, fsodo.coord_dec),\n",
    "    CIRCLE('ICRS', {ra_cen}, {dec_cen}, {radius})\n",
    "  ) = 1\n",
    "GROUP BY\n",
    "  fsodo.diaObjectId,\n",
    "  fsodo.coord_ra,\n",
    "  fsodo.coord_dec\n",
    "HAVING\n",
    "  COUNT(*) > 10\n",
    "\"\"\""
   ]
  },
  {
   "cell_type": "code",
   "execution_count": 12,
   "id": "32da77ed-67ea-49c1-82b4-820ec4414e0c",
   "metadata": {
    "execution": {
     "iopub.execute_input": "2025-07-01T00:06:59.552614Z",
     "iopub.status.busy": "2025-07-01T00:06:59.551868Z",
     "iopub.status.idle": "2025-07-01T00:07:22.848834Z",
     "shell.execute_reply": "2025-07-01T00:07:22.848201Z",
     "shell.execute_reply.started": "2025-07-01T00:06:59.552587Z"
    }
   },
   "outputs": [
    {
     "name": "stdout",
     "output_type": "stream",
     "text": [
      "Job phase is COMPLETED\n"
     ]
    }
   ],
   "source": [
    "job = service.submit_job(query)\n",
    "job.run()\n",
    "job.wait(phases=['COMPLETED', 'ERROR'])\n",
    "print('Job phase is', job.phase)\n",
    "if job.phase == 'ERROR':\n",
    "    job.raise_if_error()\n",
    "assert job.phase == 'COMPLETED'"
   ]
  },
  {
   "cell_type": "code",
   "execution_count": 7,
   "id": "33ba8422-b1f4-4a5a-b9d0-4e544a27e8da",
   "metadata": {
    "execution": {
     "iopub.execute_input": "2025-07-01T00:04:48.825312Z",
     "iopub.status.busy": "2025-07-01T00:04:48.825030Z",
     "iopub.status.idle": "2025-07-01T00:04:52.007676Z",
     "shell.execute_reply": "2025-07-01T00:04:52.007094Z",
     "shell.execute_reply.started": "2025-07-01T00:04:48.825292Z"
    }
   },
   "outputs": [],
   "source": [
    "objtab = job.fetch_result().to_table()"
   ]
  },
  {
   "cell_type": "code",
   "execution_count": 8,
   "id": "2941307f-ab85-4be6-baca-126043f69cfb",
   "metadata": {
    "execution": {
     "iopub.execute_input": "2025-07-01T00:04:53.353499Z",
     "iopub.status.busy": "2025-07-01T00:04:53.353247Z",
     "iopub.status.idle": "2025-07-01T00:04:53.359934Z",
     "shell.execute_reply": "2025-07-01T00:04:53.359523Z",
     "shell.execute_reply.started": "2025-07-01T00:04:53.353481Z"
    }
   },
   "outputs": [
    {
     "data": {
      "text/html": [
       "<div><i>Table length=214492</i>\n",
       "<table id=\"table133262672915744\" class=\"table-striped table-bordered table-condensed\">\n",
       "<thead><tr><th>diaObjectId</th><th>coord_ra</th><th>coord_dec</th><th>visit_count</th></tr></thead>\n",
       "<thead><tr><th></th><th>deg</th><th>deg</th><th></th></tr></thead>\n",
       "<thead><tr><th>int64</th><th>float64</th><th>float64</th><th>int64</th></tr></thead>\n",
       "<tr><td>612929079095591015</td><td>95.35106829445591</td><td>-25.37793186077392</td><td>13</td></tr>\n",
       "<tr><td>612929079095591016</td><td>95.34537176082017</td><td>-25.3833221054763</td><td>12</td></tr>\n",
       "<tr><td>612929079095591020</td><td>95.34455128915458</td><td>-25.374719726462157</td><td>14</td></tr>\n",
       "<tr><td>612929079095591042</td><td>95.36048153017475</td><td>-25.37850149395651</td><td>11</td></tr>\n",
       "<tr><td>612929079095591044</td><td>95.36401719112106</td><td>-25.370411424876227</td><td>11</td></tr>\n",
       "<tr><td>612929079095591045</td><td>95.34602212994777</td><td>-25.381846125982747</td><td>12</td></tr>\n",
       "<tr><td>612929079095591051</td><td>95.34984478567934</td><td>-25.388789793858155</td><td>11</td></tr>\n",
       "<tr><td>612929079095591114</td><td>95.35043614114677</td><td>-25.37910092937183</td><td>13</td></tr>\n",
       "<tr><td>612929079095591115</td><td>95.35093265812299</td><td>-25.377640256857173</td><td>13</td></tr>\n",
       "<tr><td>...</td><td>...</td><td>...</td><td>...</td></tr>\n",
       "<tr><td>614439189596864885</td><td>94.93604525904317</td><td>-24.506801017387737</td><td>12</td></tr>\n",
       "<tr><td>614439189596864892</td><td>94.92400893199924</td><td>-24.511646338893037</td><td>12</td></tr>\n",
       "<tr><td>614439189596864893</td><td>94.92612016141872</td><td>-24.51079997397007</td><td>13</td></tr>\n",
       "<tr><td>614439189596864894</td><td>94.93867114761095</td><td>-24.505861907477303</td><td>12</td></tr>\n",
       "<tr><td>614439189596864895</td><td>94.90404958939048</td><td>-24.533021074439755</td><td>14</td></tr>\n",
       "<tr><td>614439189596864896</td><td>94.92727929000358</td><td>-24.51044954001531</td><td>13</td></tr>\n",
       "<tr><td>614439189596864897</td><td>94.9290453892516</td><td>-24.51430802780263</td><td>13</td></tr>\n",
       "<tr><td>614439189596864898</td><td>94.9032221569061</td><td>-24.543002292916537</td><td>14</td></tr>\n",
       "<tr><td>614439189596864910</td><td>94.92762597916254</td><td>-24.51055132789507</td><td>13</td></tr>\n",
       "</table></div>"
      ],
      "text/plain": [
       "<Table length=214492>\n",
       "   diaObjectId          coord_ra          coord_dec      visit_count\n",
       "                          deg                deg                    \n",
       "      int64             float64            float64          int64   \n",
       "------------------ ----------------- ------------------- -----------\n",
       "612929079095591015 95.35106829445591  -25.37793186077392          13\n",
       "612929079095591016 95.34537176082017   -25.3833221054763          12\n",
       "612929079095591020 95.34455128915458 -25.374719726462157          14\n",
       "612929079095591042 95.36048153017475  -25.37850149395651          11\n",
       "612929079095591044 95.36401719112106 -25.370411424876227          11\n",
       "612929079095591045 95.34602212994777 -25.381846125982747          12\n",
       "612929079095591051 95.34984478567934 -25.388789793858155          11\n",
       "612929079095591114 95.35043614114677  -25.37910092937183          13\n",
       "612929079095591115 95.35093265812299 -25.377640256857173          13\n",
       "               ...               ...                 ...         ...\n",
       "614439189596864885 94.93604525904317 -24.506801017387737          12\n",
       "614439189596864892 94.92400893199924 -24.511646338893037          12\n",
       "614439189596864893 94.92612016141872  -24.51079997397007          13\n",
       "614439189596864894 94.93867114761095 -24.505861907477303          12\n",
       "614439189596864895 94.90404958939048 -24.533021074439755          14\n",
       "614439189596864896 94.92727929000358  -24.51044954001531          13\n",
       "614439189596864897  94.9290453892516  -24.51430802780263          13\n",
       "614439189596864898  94.9032221569061 -24.543002292916537          14\n",
       "614439189596864910 94.92762597916254  -24.51055132789507          13"
      ]
     },
     "execution_count": 8,
     "metadata": {},
     "output_type": "execute_result"
    }
   ],
   "source": [
    "objtab"
   ]
  },
  {
   "cell_type": "code",
   "execution_count": 13,
   "id": "d421590e-e256-44b1-9c3c-3b67ca4b2b58",
   "metadata": {
    "execution": {
     "iopub.execute_input": "2025-07-01T00:08:22.536868Z",
     "iopub.status.busy": "2025-07-01T00:08:22.536605Z",
     "iopub.status.idle": "2025-07-01T00:08:22.549676Z",
     "shell.execute_reply": "2025-07-01T00:08:22.548995Z",
     "shell.execute_reply.started": "2025-07-01T00:08:22.536850Z"
    }
   },
   "outputs": [],
   "source": [
    "# ATOUSHA'S IMPLEMENTATION OF THE KMTNet DETECTION ALGORITHM\n",
    "def run_kmtnet_fit(times, fluxes, flux_errors):\n",
    "\n",
    "    \"\"\"\n",
    "    Fit a two-parameter PSPL (KMTNet-Algorithm) model to a light curve,\n",
    "    using a grid search over t0 and t_eff,\n",
    "    and return Delta_Chi2 along with best-fit parameters.\n",
    "    \"\"\"\n",
    "\n",
    "    # Ensure inputs are numpy arrays\n",
    "    times = np.asarray(times)\n",
    "    fluxes = np.asarray(fluxes)\n",
    "    flux_errors = np.asarray(flux_errors)\n",
    "\n",
    "    # Filter out NaNs from input data before creating DataFrame\n",
    "    valid_data_indices = ~np.isnan(times) & ~np.isnan(fluxes) & ~np.isnan(flux_errors) & (flux_errors > 0)\n",
    "    times, fluxes, flux_errors = times[valid_data_indices], fluxes[valid_data_indices], flux_errors[valid_data_indices]\n",
    "\n",
    "    if len(times) < 5: # KMTNet fit needs sufficient data points\n",
    "        return None, None, None # Not enough data for KMTNet fit\n",
    "\n",
    "    data_df = pd.DataFrame({\n",
    "        'time': times,\n",
    "        'flux': fluxes,\n",
    "        'flux_err': flux_errors\n",
    "    })\n",
    "\n",
    "    # --- Model Definitions ---\n",
    "    # Functions for high and low magnification regimes,\n",
    "    # params: (t, f_1, f_0, t0, t_eff)\n",
    "    \n",
    "    def Ft_high(t, f_1, f_0, t0, t_eff):\n",
    "        # High-mag analytic approximation \n",
    "        Q = 1 + ((t - t0) / t_eff)**2\n",
    "        return np.abs(f_1) * (Q**(-1.0 / 2)) + np.abs(f_0)\n",
    "\n",
    "    def Ft_low(t, f_1, f_0, t0, t_eff):\n",
    "         # Low-mag analytic approximation\n",
    "        Q = 1 + ((t - t0) / t_eff)**2\n",
    "        return np.abs(f_1) * (1 - (1 + Q / 2)**-2)**(-1.0 / 2) + np.abs(f_0)\n",
    "\n",
    "     # --- Chi2 Functions for Minimization ---\n",
    "    def chi2_high(f_params, t, flux, flux_err, t0, teff):\n",
    "        # Compute chi^2 for the high-mag model (minimize over f1, f0)\n",
    "        f_1, f_0 = f_params\n",
    "        model = Ft_high(t, f_1, f_0, t0, teff)\n",
    "        inv_sigma2 = 1.0 / (flux_err**2)\n",
    "        return np.sum((flux - model)**2 * inv_sigma2)\n",
    "\n",
    "    def chi2_low(f_params, t, flux, flux_err, t0, teff):\n",
    "        # Compute chi^2 for the low-mag model\n",
    "        f_1, f_0 = f_params\n",
    "        model = Ft_low(t, f_1, f_0, t0, teff)\n",
    "        inv_sigma2 = 1.0 / (flux_err**2)\n",
    "        return np.sum((flux - model)**2 * inv_sigma2)\n",
    "\n",
    "    # --- Grid Search: Build t0-teff grid for nonlinear fitting ---\n",
    "    teff_min, teff_max = 1, 100\n",
    "    teff_list, t0_tE_list = [], []\n",
    "    current_teff = teff_min\n",
    "\n",
    "    # Build teff grid (teff_{k+1} = (1 + delta) * teff_k)\n",
    "    while current_teff <= teff_max:\n",
    "        teff_list.append(current_teff)\n",
    "        delta = 1/5 if current_teff < 1 else 1/3\n",
    "        current_teff *= (1 + delta)\n",
    "\n",
    "    # For each teff, build the grid of t0 values\n",
    "    t0_min, t0_max = np.min(times), np.max(times)\n",
    "    for teff in teff_list:\n",
    "        t0_current = t0_min\n",
    "        while t0_current <= t0_max:\n",
    "            t0_tE_list.append([t0_current, teff])\n",
    "            delta = 1/5 if teff < 1 else 1/3\n",
    "            t0_current += delta * teff\n",
    "\n",
    "    # If no grid was produced, exit\n",
    "    if not t0_tE_list: return None, None, None\n",
    "\n",
    "\n",
    "    # --- Main Grid Fit Loop ---\n",
    "    param1, param2 = [], []  # Will store fit results for high and low mag regimes\n",
    "    f_initial = [0.01, 0.99] # Initial guess for f_1, f_0\n",
    "\n",
    "    for i, (t0_val, teff_val) in enumerate(t0_tE_list):\n",
    "        # For each grid point, select data within the relevant window (t0 ± 7 teff)\n",
    "        df_i = data_df[(data_df['time'] > (t0_val - 7 * teff_val)) & (data_df['time'] < (t0_val + 7 * teff_val))]\n",
    "\n",
    "        if len(df_i) < 10:\n",
    "            continue # Skip if not enough data in interval\n",
    "\n",
    "        # Prepare arguments for minimize (t, flux, flux_err, t0_val, teff_val)\n",
    "        args = (df_i['time'].values, df_i['flux'].values, df_i['flux_err'].values, t0_val, teff_val)\n",
    "\n",
    "        try:\n",
    "            # Fit the high-magnification model for current grid point\n",
    "            result1 = minimize(chi2_high, f_initial, args=args, method='BFGS')\n",
    "            # Compute chi2 for the entire dataset using best-fit parameters\n",
    "            model_diff1 = data_df['flux'].values - Ft_high(data_df['time'].values, result1.x[0], result1.x[1], t0_val, teff_val)\n",
    "            chi2_all1 = np.sum((model_diff1)**2 * (1.0 / (data_df['flux_err'].values**2)))\n",
    "\n",
    "\n",
    "            # Fit the low-magnification model\n",
    "            result2 = minimize(chi2_low, f_initial, args=args, method='BFGS')\n",
    "            model_diff2 = data_df['flux'].values - Ft_low(data_df['time'].values, result2.x[0], result2.x[1], t0_val, teff_val)\n",
    "            chi2_all2 = np.sum((model_diff2)**2 * (1.0 / (data_df['flux_err'].values**2)))\n",
    "\n",
    "            # Store: [index, t0, teff, f1, f0, local_chi2, window_npts, global_chi2, npts]\n",
    "            param1.append([i, t0_val, teff_val, result1.x[0], result1.x[1], result1.fun,\n",
    "                            len(df_i), chi2_all1, len(data_df)])\n",
    "            param2.append([i, t0_val, teff_val, result2.x[0], result2.x[1], result2.fun,\n",
    "                            len(df_i), chi2_all2, len(data_df)])\n",
    "        except Exception as e:\n",
    "            # If optimization fails, print a warning but continue\n",
    "            print(f\"Warning: KMTNet minimize failed for iteration {i}: {e}\")\n",
    "            continue \n",
    "\n",
    "    # If no fits were successful, exit\n",
    "    if not param1 and not param2: return None, None, None \n",
    "\n",
    "    # --- Select Best-fit Parameters ---\n",
    "    # Find best fits: lowest chi2 on entire dataset for both regimes\n",
    "    min_value1 = min(param1, key=lambda x: x[7])\n",
    "    min_value2 = min(param2, key=lambda x: x[7])\n",
    "\n",
    "    # Use the regime (high or low mag) with the best global chi2\n",
    "    if min_value1 < min_value2:\n",
    "              min_value = min_value1\n",
    "              param = param1\n",
    "              F_t = Ft_high\n",
    "              which_regim = 'high'\n",
    "\n",
    "    else:\n",
    "              min_value = min_value2\n",
    "              param = param2\n",
    "              F_t = Ft_low\n",
    "              which_regim = 'low'\n",
    "\n",
    "    # Extract the precise parameters where chi2 is minimized\n",
    "    for sublist in param:\n",
    "        if sublist[7] == min_value[7]:\n",
    "            parameter = sublist\n",
    "\n",
    "\n",
    "\n",
    "    chi_mlens = parameter[7] # Minimum chi2 for microlensing fit\n",
    "    t0 = parameter[1]\n",
    "    t_eff = parameter[2]\n",
    "    f1 = parameter[3]\n",
    "    f0 = parameter[4]\n",
    "\n",
    "    # --- Linear Fit for Flat Model ---\n",
    "    # Fit a constant flux to the light curve in the same window\n",
    "    data_df_interval = data_df[(data_df['time'] > (t0 - 7 * t_eff)) & (data_df['time'] < (t0 + 7 * t_eff))]\n",
    "\n",
    "    if len(data_df_interval) == 0:\n",
    "        # Fallback to global mean if window is empty\n",
    "        mean_flux_interval = np.mean(data_df['flux'].values)\n",
    "    else:\n",
    "        # Ensure weights are valid (not zero or inf)\n",
    "        weights = 1.0 / (data_df_interval['flux_err'].values**2)\n",
    "        valid_weights_indices = ~np.isinf(weights) & ~np.isnan(weights) & (weights > 0)\n",
    "        if np.sum(valid_weights_indices) > 0:\n",
    "            mean_flux_interval = ws.weighted_mean(data_df_interval['flux'].values[valid_weights_indices],\n",
    "                                                  weights[valid_weights_indices])\n",
    "        else:\n",
    "            mean_flux_interval = np.mean(data_df['flux'].values)\n",
    "\n",
    "    # Compute chi2 for flat line fit\n",
    "    chi2_linearfit = np.sum((data_df['flux'] - mean_flux_interval)**2 / (data_df['flux_err']) ** 2)\n",
    "\n",
    "\n",
    "     # --- Compute Metric and Return ---\n",
    "    if chi2_linearfit == 0:\n",
    "        delta_chi_squared_kmt = 0\n",
    "    else:\n",
    "        delta_chi_squared_kmt = (abs(chi_mlens - chi2_linearfit) / chi2_linearfit)\n",
    "\n",
    "    # Return: delta chi2, best-fit physical params\n",
    "    # If delta_chi_squared_kmt > 0.9, the light curve would be a microlensing candidate.\n",
    "    return delta_chi_squared_kmt, (t0, t_eff, f1, f0)\n"
   ]
  },
  {
   "cell_type": "code",
   "execution_count": null,
   "id": "7c9016bf-df48-4833-aaac-816f678aaa45",
   "metadata": {
    "execution": {
     "iopub.execute_input": "2025-07-01T00:12:38.185968Z",
     "iopub.status.busy": "2025-07-01T00:12:38.185737Z"
    }
   },
   "outputs": [
    {
     "name": "stdout",
     "output_type": "stream",
     "text": [
      "Searching at coords: 95.35106829445591  -25.37793186077392 'COMPLETED'\n",
      " -> Found 13 r-band observations\n",
      "Extracting lightcurve for 612929079095591015\n"
     ]
    },
    {
     "data": {
      "image/png": "[encoded data removed]",
      "text/plain": [
       "<Figure size 640x480 with 1 Axes>"
      ]
     },
     "metadata": {},
     "output_type": "display_data"
    },
    {
     "name": "stdout",
     "output_type": "stream",
     "text": [
      "Searching at coords: 95.34537176082017  -25.3833221054763 'COMPLETED'\n",
      " -> Found 12 r-band observations\n",
      "Extracting lightcurve for 612929079095591016\n"
     ]
    },
    {
     "data": {
      "image/png": "[encoded data removed]",
      "text/plain": [
       "<Figure size 640x480 with 1 Axes>"
      ]
     },
     "metadata": {},
     "output_type": "display_data"
    },
    {
     "name": "stdout",
     "output_type": "stream",
     "text": [
      "Searching at coords: 95.34455128915458  -25.374719726462157 'COMPLETED'\n",
      " -> Found 14 r-band observations\n",
      "Extracting lightcurve for 612929079095591020\n"
     ]
    },
    {
     "data": {
      "image/png": "[encoded data removed]",
      "text/plain": [
       "<Figure size 640x480 with 1 Axes>"
      ]
     },
     "metadata": {},
     "output_type": "display_data"
    }
   ],
   "source": [
    "target_radius = 0.5 / 3600.0  # degrees\n",
    "\n",
    "with open('./mulens_candidates.dat', 'w') as fout:\n",
    "    fout.write('# diaObjectId   coord_ra  coord_dec  delta_chi_squared_kmt  t0  t_eff  f1  f0\\n')\n",
    "\n",
    "    i = 0\n",
    "    maxi = len(objtab)\n",
    "    while i < maxi:  \n",
    "        target = objtab[i]\n",
    "        \n",
    "        query = f\"\"\"\n",
    "            SELECT fsodo.diaObjectId, fsodo.coord_ra, fsodo.coord_dec,\n",
    "                   fsodo.visit, fsodo.detector, fsodo.band,\n",
    "                   fsodo.psfDiffFlux, fsodo.psfDiffFluxErr,\n",
    "                   fsodo.psfFlux AS psfFlux, fsodo.psfFluxErr,\n",
    "                   vis.expMidptMJD\n",
    "            FROM dp1.ForcedSourceOnDiaObject AS fsodo\n",
    "            JOIN dp1.Visit AS vis ON vis.visit = fsodo.visit\n",
    "            WHERE CONTAINS(POINT('ICRS', coord_ra, coord_dec),\n",
    "                           CIRCLE('ICRS', {target['coord_ra']}, {target['coord_dec']}, {target_radius})) = 1\n",
    "        \"\"\"\n",
    "\n",
    "        job = service.submit_job(query)\n",
    "        job.run()\n",
    "        job.wait(phases=['COMPLETED', 'ERROR'])\n",
    "\n",
    "        print(f\"Searching at coords: {target['coord_ra']}  {target['coord_dec']} {repr(job.phase)}\")\n",
    "        if job.phase == 'ERROR':\n",
    "            job.raise_if_error()\n",
    "        assert job.phase == 'COMPLETED'\n",
    "\n",
    "        forced_sources = job.fetch_result().to_table()\n",
    "        print(' -> Found', np.sum(forced_sources['band'] == 'r'), 'r-band observations')\n",
    "\n",
    "        if len(forced_sources) > 0:\n",
    "            rband = np.where(forced_sources['band'] == 'r')\n",
    "            if len(rband[0]) < 10:  #skip poor light curves\n",
    "                i += 1\n",
    "                continue\n",
    "\n",
    "            times = forced_sources[rband]['expMidptMJD']\n",
    "            fluxes = forced_sources[rband]['psfFlux']\n",
    "            flux_err = forced_sources[rband]['psfFluxErr']\n",
    "\n",
    "            plt.figure(i)\n",
    "            plt.scatter(times, fluxes)\n",
    "            \n",
    "\n",
    "            print(f'Extracting lightcurve for {target[\"diaObjectId\"]}')\n",
    "\n",
    "            delta_chi_squared_kmt, (t0, t_eff, f1, f0) = run_kmtnet_fit(times, fluxes, flux_err)\n",
    "\n",
    "            plt.title('delta chisq='+str(np.round(delta_chi_squared_kmt, 3)))\n",
    "            plt.ylabel('Flux')\n",
    "            plt.xlabel('Time (MJD)')\n",
    "            plt.show()\n",
    "\n",
    "            if delta_chi_squared_kmt > 0.9:\n",
    "                fout.write(f\"{target['diaObjectId']}  {target['coord_ra']}  {target['coord_dec']}  \"\n",
    "                           f\"{delta_chi_squared_kmt}  {t0}  {t_eff}  {f1}  {f0}\\n\")\n",
    "\n",
    "        i += 1\n",
    "        if i == 10:\n",
    "            break"
   ]
  },
  {
   "cell_type": "code",
   "execution_count": null,
   "id": "0e0bf46b-7832-4f02-aaa0-f36329bd3da7",
   "metadata": {},
   "outputs": [],
   "source": []
  }
 ],
 "metadata": {
  "kernelspec": {
   "display_name": "LSST",
   "language": "python",
   "name": "lsst"
  },
  "language_info": {
   "codemirror_mode": {
    "name": "ipython",
    "version": 3
   },
   "file_extension": ".py",
   "mimetype": "text/x-python",
   "name": "python",
   "nbconvert_exporter": "python",
   "pygments_lexer": "ipython3",
   "version": "3.12.11"
  }
 },
 "nbformat": 4,
 "nbformat_minor": 5
}
