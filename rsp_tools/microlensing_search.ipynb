{
 "cells": [
  {
   "cell_type": "markdown",
   "id": "4703d404-1059-44c8-924b-b52547839bbe",
   "metadata": {},
   "source": [
    "# Search for Microlensing events in DP1"
   ]
  },
  {
   "cell_type": "code",
   "execution_count": 1,
   "id": "881445ed-db94-4b0b-bdea-b19ebd038e6f",
   "metadata": {
    "execution": {
     "iopub.execute_input": "2025-06-30T19:20:54.943288Z",
     "iopub.status.busy": "2025-06-30T19:20:54.943114Z",
     "iopub.status.idle": "2025-06-30T19:20:57.780388Z",
     "shell.execute_reply": "2025-06-30T19:20:57.779782Z",
     "shell.execute_reply.started": "2025-06-30T19:20:54.943271Z"
    }
   },
   "outputs": [],
   "source": [
    "import numpy as np\n",
    "import matplotlib.pyplot as plt\n",
    "from matplotlib.patches import Polygon\n",
    "import matplotlib.lines as mlines\n",
    "import itertools\n",
    "from astropy.coordinates import SkyCoord\n",
    "import astropy.units as u\n",
    "\n",
    "from lsst.rsp import get_tap_service\n",
    "from lsst.daf.butler import Butler\n",
    "import lsst.afw.display as afw_display\n",
    "import lsst.sphgeom as sphgeom\n",
    "import lsst.geom as geom\n",
    "from lsst.utils.plotting import (get_multiband_plot_colors,\n",
    "                                 get_multiband_plot_symbols,\n",
    "                                 get_multiband_plot_linestyles)\n",
    "import pandas as pd\n",
    "from scipy.optimize import minimize\n",
    "import warnings\n",
    "import weightedstats as ws"
   ]
  },
  {
   "cell_type": "code",
   "execution_count": 2,
   "id": "7ac46feb-3f21-47f3-a995-b0a6e6066bad",
   "metadata": {
    "execution": {
     "iopub.execute_input": "2025-06-30T19:20:59.168331Z",
     "iopub.status.busy": "2025-06-30T19:20:59.168058Z",
     "iopub.status.idle": "2025-06-30T19:20:59.222612Z",
     "shell.execute_reply": "2025-06-30T19:20:59.222128Z",
     "shell.execute_reply.started": "2025-06-30T19:20:59.168312Z"
    }
   },
   "outputs": [],
   "source": [
    "service = get_tap_service(\"tap\")\n",
    "assert service is not None"
   ]
  },
  {
   "cell_type": "code",
   "execution_count": 3,
   "id": "5f74de9a-5bbb-4f5a-8bbe-20c1d5c1f468",
   "metadata": {
    "execution": {
     "iopub.execute_input": "2025-06-30T19:21:00.136273Z",
     "iopub.status.busy": "2025-06-30T19:21:00.135752Z",
     "iopub.status.idle": "2025-06-30T19:21:00.531881Z",
     "shell.execute_reply": "2025-06-30T19:21:00.531365Z",
     "shell.execute_reply.started": "2025-06-30T19:21:00.136247Z"
    }
   },
   "outputs": [],
   "source": [
    "butler = Butler('dp1', collections=\"LSSTComCam/DP1\")\n",
    "assert butler is not None"
   ]
  },
  {
   "cell_type": "code",
   "execution_count": 26,
   "id": "8a624a1b-5dd6-48ba-923e-9cf0a1acdbd5",
   "metadata": {
    "execution": {
     "iopub.execute_input": "2025-06-30T20:40:32.308260Z",
     "iopub.status.busy": "2025-06-30T20:40:32.307772Z",
     "iopub.status.idle": "2025-06-30T20:40:32.311329Z",
     "shell.execute_reply": "2025-06-30T20:40:32.310851Z",
     "shell.execute_reply.started": "2025-06-30T20:40:32.308234Z"
    }
   },
   "outputs": [],
   "source": [
    "ra_cen = 95.0\n",
    "dec_cen = -25.0\n",
    "radius = 0.5\n",
    "region = sphgeom.Region.from_ivoa_pos(f\"CIRCLE {ra_cen} {dec_cen} {radius}\")"
   ]
  },
  {
   "cell_type": "code",
   "execution_count": 30,
   "id": "d043a9cd-9a70-47f6-9987-8274fa4939c9",
   "metadata": {
    "execution": {
     "iopub.execute_input": "2025-06-30T20:43:02.854418Z",
     "iopub.status.busy": "2025-06-30T20:43:02.853869Z",
     "iopub.status.idle": "2025-06-30T20:43:02.857449Z",
     "shell.execute_reply": "2025-06-30T20:43:02.856836Z",
     "shell.execute_reply.started": "2025-06-30T20:43:02.854394Z"
    }
   },
   "outputs": [],
   "source": [
    "query = \"\"\"\n",
    "        SELECT objectId, coord_ra, coord_dec,\n",
    "               u_psfMag, u_cModelMag, g_psfMag, g_cModelMag,\n",
    "               r_psfMag, r_cModelMag, i_psfMag, i_cModelMag,\n",
    "               z_psfMag, z_cModelMag, y_psfMag, y_cModelMag,\n",
    "               refExtendedness\n",
    "        FROM dp1.Object\n",
    "        WHERE CONTAINS(POINT('ICRS', coord_ra, coord_dec),\n",
    "              CIRCLE('ICRS', {}, {}, {})) = 1\n",
    "        ORDER BY objectId\n",
    "        \"\"\".format(ra_cen, dec_cen, radius)"
   ]
  },
  {
   "cell_type": "code",
   "execution_count": 31,
   "id": "32da77ed-67ea-49c1-82b4-820ec4414e0c",
   "metadata": {
    "execution": {
     "iopub.execute_input": "2025-06-30T20:43:04.239429Z",
     "iopub.status.busy": "2025-06-30T20:43:04.238863Z",
     "iopub.status.idle": "2025-06-30T20:43:27.651989Z",
     "shell.execute_reply": "2025-06-30T20:43:27.651338Z",
     "shell.execute_reply.started": "2025-06-30T20:43:04.239402Z"
    }
   },
   "outputs": [
    {
     "name": "stdout",
     "output_type": "stream",
     "text": [
      "Job phase is COMPLETED\n"
     ]
    }
   ],
   "source": [
    "job = service.submit_job(query)\n",
    "job.run()\n",
    "job.wait(phases=['COMPLETED', 'ERROR'])\n",
    "print('Job phase is', job.phase)\n",
    "if job.phase == 'ERROR':\n",
    "    job.raise_if_error()\n",
    "assert job.phase == 'COMPLETED'"
   ]
  },
  {
   "cell_type": "code",
   "execution_count": 9,
   "id": "33ba8422-b1f4-4a5a-b9d0-4e544a27e8da",
   "metadata": {
    "execution": {
     "iopub.execute_input": "2025-06-30T19:21:39.194632Z",
     "iopub.status.busy": "2025-06-30T19:21:39.193962Z",
     "iopub.status.idle": "2025-06-30T19:21:56.845964Z",
     "shell.execute_reply": "2025-06-30T19:21:56.845272Z",
     "shell.execute_reply.started": "2025-06-30T19:21:39.194604Z"
    }
   },
   "outputs": [],
   "source": [
    "objtab = job.fetch_result().to_table()"
   ]
  },
  {
   "cell_type": "code",
   "execution_count": 10,
   "id": "6b03317e-e14e-49c3-b824-f86bb2606868",
   "metadata": {
    "execution": {
     "iopub.execute_input": "2025-06-30T19:22:18.162042Z",
     "iopub.status.busy": "2025-06-30T19:22:18.161458Z",
     "iopub.status.idle": "2025-06-30T19:22:18.165533Z",
     "shell.execute_reply": "2025-06-30T19:22:18.165076Z",
     "shell.execute_reply.started": "2025-06-30T19:22:18.162002Z"
    }
   },
   "outputs": [],
   "source": [
    "# Select objects with valid iband magnitudes\n",
    "invmask = np.isnan(objtab['i_psfMag'])\n",
    "mask = ~invmask"
   ]
  },
  {
   "cell_type": "code",
   "execution_count": 11,
   "id": "d421590e-e256-44b1-9c3c-3b67ca4b2b58",
   "metadata": {
    "execution": {
     "iopub.execute_input": "2025-06-30T19:22:52.337258Z",
     "iopub.status.busy": "2025-06-30T19:22:52.336988Z",
     "iopub.status.idle": "2025-06-30T19:22:52.351825Z",
     "shell.execute_reply": "2025-06-30T19:22:52.351244Z",
     "shell.execute_reply.started": "2025-06-30T19:22:52.337238Z"
    }
   },
   "outputs": [],
   "source": [
    "# ATOUSHA'S IMPLEMENTATION OF THE KMTNet DETECTION ALGORITHM\n",
    "def run_kmtnet_fit(times, fluxes, flux_errors):\n",
    "\n",
    "    \"\"\"\n",
    "    Fit a two-parameter PSPL (KMTNet-Algorithm) model to a light curve,\n",
    "    using a grid search over t0 and t_eff,\n",
    "    and return Delta_Chi2 along with best-fit parameters.\n",
    "    \"\"\"\n",
    "\n",
    "    # Ensure inputs are numpy arrays\n",
    "    times = np.asarray(times)\n",
    "    fluxes = np.asarray(fluxes)\n",
    "    flux_errors = np.asarray(flux_errors)\n",
    "\n",
    "    # Filter out NaNs from input data before creating DataFrame\n",
    "    valid_data_indices = ~np.isnan(times) & ~np.isnan(fluxes) & ~np.isnan(flux_errors) & (flux_errors > 0)\n",
    "    times, fluxes, flux_errors = times[valid_data_indices], fluxes[valid_data_indices], flux_errors[valid_data_indices]\n",
    "\n",
    "    if len(times) < 5: # KMTNet fit needs sufficient data points\n",
    "        return None, None, None # Not enough data for KMTNet fit\n",
    "\n",
    "    data_df = pd.DataFrame({\n",
    "        'time': times,\n",
    "        'flux': fluxes,\n",
    "        'flux_err': flux_errors\n",
    "    })\n",
    "\n",
    "    # --- Model Definitions ---\n",
    "    # Functions for high and low magnification regimes,\n",
    "    # params: (t, f_1, f_0, t0, t_eff)\n",
    "    \n",
    "    def Ft_high(t, f_1, f_0, t0, t_eff):\n",
    "        # High-mag analytic approximation \n",
    "        Q = 1 + ((t - t0) / t_eff)**2\n",
    "        return np.abs(f_1) * (Q**(-1.0 / 2)) + np.abs(f_0)\n",
    "\n",
    "    def Ft_low(t, f_1, f_0, t0, t_eff):\n",
    "         # Low-mag analytic approximation\n",
    "        Q = 1 + ((t - t0) / t_eff)**2\n",
    "        return np.abs(f_1) * (1 - (1 + Q / 2)**-2)**(-1.0 / 2) + np.abs(f_0)\n",
    "\n",
    "     # --- Chi2 Functions for Minimization ---\n",
    "    def chi2_high(f_params, t, flux, flux_err, t0, teff):\n",
    "        # Compute chi^2 for the high-mag model (minimize over f1, f0)\n",
    "        f_1, f_0 = f_params\n",
    "        model = Ft_high(t, f_1, f_0, t0, teff)\n",
    "        inv_sigma2 = 1.0 / (flux_err**2)\n",
    "        return np.sum((flux - model)**2 * inv_sigma2)\n",
    "\n",
    "    def chi2_low(f_params, t, flux, flux_err, t0, teff):\n",
    "        # Compute chi^2 for the low-mag model\n",
    "        f_1, f_0 = f_params\n",
    "        model = Ft_low(t, f_1, f_0, t0, teff)\n",
    "        inv_sigma2 = 1.0 / (flux_err**2)\n",
    "        return np.sum((flux - model)**2 * inv_sigma2)\n",
    "\n",
    "    # --- Grid Search: Build t0-teff grid for nonlinear fitting ---\n",
    "    teff_min, teff_max = 1, 100\n",
    "    teff_list, t0_tE_list = [], []\n",
    "    current_teff = teff_min\n",
    "\n",
    "    # Build teff grid (teff_{k+1} = (1 + delta) * teff_k)\n",
    "    while current_teff <= teff_max:\n",
    "        teff_list.append(current_teff)\n",
    "        delta = 1/5 if current_teff < 1 else 1/3\n",
    "        current_teff *= (1 + delta)\n",
    "\n",
    "    # For each teff, build the grid of t0 values\n",
    "    t0_min, t0_max = np.min(times), np.max(times)\n",
    "    for teff in teff_list:\n",
    "        t0_current = t0_min\n",
    "        while t0_current <= t0_max:\n",
    "            t0_tE_list.append([t0_current, teff])\n",
    "            delta = 1/5 if teff < 1 else 1/3\n",
    "            t0_current += delta * teff\n",
    "\n",
    "    # If no grid was produced, exit\n",
    "    if not t0_tE_list: return None, None, None\n",
    "\n",
    "\n",
    "    # --- Main Grid Fit Loop ---\n",
    "    param1, param2 = [], []  # Will store fit results for high and low mag regimes\n",
    "    f_initial = [0.01, 0.99] # Initial guess for f_1, f_0\n",
    "\n",
    "    for i, (t0_val, teff_val) in enumerate(t0_tE_list):\n",
    "        # For each grid point, select data within the relevant window (t0 ± 7 teff)\n",
    "        df_i = data_df[(data_df['time'] > (t0_val - 7 * teff_val)) & (data_df['time'] < (t0_val + 7 * teff_val))]\n",
    "\n",
    "        if len(df_i) < 10:\n",
    "            continue # Skip if not enough data in interval\n",
    "\n",
    "        # Prepare arguments for minimize (t, flux, flux_err, t0_val, teff_val)\n",
    "        args = (df_i['time'].values, df_i['flux'].values, df_i['flux_err'].values, t0_val, teff_val)\n",
    "\n",
    "        try:\n",
    "            # Fit the high-magnification model for current grid point\n",
    "            result1 = minimize(chi2_high, f_initial, args=args, method='BFGS')\n",
    "            # Compute chi2 for the entire dataset using best-fit parameters\n",
    "            model_diff1 = data_df['flux'].values - Ft_high(data_df['time'].values, result1.x[0], result1.x[1], t0_val, teff_val)\n",
    "            chi2_all1 = np.sum((model_diff1)**2 * (1.0 / (data_df['flux_err'].values**2)))\n",
    "\n",
    "\n",
    "            # Fit the low-magnification model\n",
    "            result2 = minimize(chi2_low, f_initial, args=args, method='BFGS')\n",
    "            model_diff2 = data_df['flux'].values - Ft_low(data_df['time'].values, result2.x[0], result2.x[1], t0_val, teff_val)\n",
    "            chi2_all2 = np.sum((model_diff2)**2 * (1.0 / (data_df['flux_err'].values**2)))\n",
    "\n",
    "            # Store: [index, t0, teff, f1, f0, local_chi2, window_npts, global_chi2, npts]\n",
    "            param1.append([i, t0_val, teff_val, result1.x[0], result1.x[1], result1.fun,\n",
    "                            len(df_i), chi2_all1, len(data_df)])\n",
    "            param2.append([i, t0_val, teff_val, result2.x[0], result2.x[1], result2.fun,\n",
    "                            len(df_i), chi2_all2, len(data_df)])\n",
    "        except Exception as e:\n",
    "            # If optimization fails, print a warning but continue\n",
    "            print(f\"Warning: KMTNet minimize failed for iteration {i}: {e}\")\n",
    "            continue \n",
    "\n",
    "    # If no fits were successful, exit\n",
    "    if not param1 and not param2: return None, None, None \n",
    "\n",
    "    # --- Select Best-fit Parameters ---\n",
    "    # Find best fits: lowest chi2 on entire dataset for both regimes\n",
    "    min_value1 = min(param1, key=lambda x: x[7])\n",
    "    min_value2 = min(param2, key=lambda x: x[7])\n",
    "\n",
    "    # Use the regime (high or low mag) with the best global chi2\n",
    "    if min_value1 < min_value2:\n",
    "              min_value = min_value1\n",
    "              param = param1\n",
    "              F_t = Ft_high\n",
    "              which_regim = 'high'\n",
    "\n",
    "    else:\n",
    "              min_value = min_value2\n",
    "              param = param2\n",
    "              F_t = Ft_low\n",
    "              which_regim = 'low'\n",
    "\n",
    "    # Extract the precise parameters where chi2 is minimized\n",
    "    for sublist in param:\n",
    "        if sublist[7] == min_value[7]:\n",
    "            parameter = sublist\n",
    "\n",
    "\n",
    "\n",
    "    chi_mlens = parameter[7] # Minimum chi2 for microlensing fit\n",
    "    t0 = parameter[1]\n",
    "    t_eff = parameter[2]\n",
    "    f1 = parameter[3]\n",
    "    f0 = parameter[4]\n",
    "\n",
    "    # --- Linear Fit for Flat Model ---\n",
    "    # Fit a constant flux to the light curve in the same window\n",
    "    data_df_interval = data_df[(data_df['time'] > (t0 - 7 * t_eff)) & (data_df['time'] < (t0 + 7 * t_eff))]\n",
    "\n",
    "    if len(data_df_interval) == 0:\n",
    "        # Fallback to global mean if window is empty\n",
    "        mean_flux_interval = np.mean(data_df['flux'].values)\n",
    "    else:\n",
    "        # Ensure weights are valid (not zero or inf)\n",
    "        weights = 1.0 / (data_df_interval['flux_err'].values**2)\n",
    "        valid_weights_indices = ~np.isinf(weights) & ~np.isnan(weights) & (weights > 0)\n",
    "        if np.sum(valid_weights_indices) > 0:\n",
    "            mean_flux_interval = ws.weighted_mean(data_df_interval['flux'].values[valid_weights_indices],\n",
    "                                                  weights[valid_weights_indices])\n",
    "        else:\n",
    "            mean_flux_interval = np.mean(data_df['flux'].values)\n",
    "\n",
    "    # Compute chi2 for flat line fit\n",
    "    chi2_linearfit = np.sum((data_df['flux'] - mean_flux_interval)**2 / (data_df['flux_err']) ** 2)\n",
    "\n",
    "\n",
    "     # --- Compute Metric and Return ---\n",
    "    if chi2_linearfit == 0:\n",
    "        delta_chi_squared_kmt = 0\n",
    "    else:\n",
    "        delta_chi_squared_kmt = (abs(chi_mlens - chi2_linearfit) / chi2_linearfit)\n",
    "\n",
    "    # Return: delta chi2, best-fit physical params\n",
    "    # If delta_chi_squared_kmt > 0.9, the light curve would be a microlensing candidate.\n",
    "    return delta_chi_squared_kmt, (t0, t_eff, f1, f0)\n"
   ]
  },
  {
   "cell_type": "code",
   "execution_count": 23,
   "id": "7c9016bf-df48-4833-aaac-816f678aaa45",
   "metadata": {
    "execution": {
     "iopub.execute_input": "2025-06-30T20:24:18.092280Z",
     "iopub.status.busy": "2025-06-30T20:24:18.091807Z",
     "iopub.status.idle": "2025-06-30T20:24:25.892384Z",
     "shell.execute_reply": "2025-06-30T20:24:25.891600Z",
     "shell.execute_reply.started": "2025-06-30T20:24:18.092248Z"
    }
   },
   "outputs": [
    {
     "name": "stdout",
     "output_type": "stream",
     "text": [
      "Searching at coords: 94.5142305215061  -25.41595398183146 'COMPLETED'\n",
      " -> Found 0 observations\n",
      "Searching at coords: 94.51073223144039  -25.414719829932192 'COMPLETED'\n",
      " -> Found 0 observations\n",
      "Searching at coords: 94.51726361955824  -25.41303698421017 'COMPLETED'\n",
      " -> Found 0 observations\n"
     ]
    },
    {
     "ename": "KeyboardInterrupt",
     "evalue": "",
     "output_type": "error",
     "traceback": [
      "\u001b[0;31m---------------------------------------------------------------------------\u001b[0m",
      "\u001b[0;31mKeyboardInterrupt\u001b[0m                         Traceback (most recent call last)",
      "Cell \u001b[0;32mIn[23], line 24\u001b[0m\n\u001b[1;32m     22\u001b[0m job \u001b[38;5;241m=\u001b[39m service\u001b[38;5;241m.\u001b[39msubmit_job(query)\n\u001b[1;32m     23\u001b[0m job\u001b[38;5;241m.\u001b[39mrun()\n\u001b[0;32m---> 24\u001b[0m \u001b[43mjob\u001b[49m\u001b[38;5;241;43m.\u001b[39;49m\u001b[43mwait\u001b[49m\u001b[43m(\u001b[49m\u001b[43mphases\u001b[49m\u001b[38;5;241;43m=\u001b[39;49m\u001b[43m[\u001b[49m\u001b[38;5;124;43m'\u001b[39;49m\u001b[38;5;124;43mCOMPLETED\u001b[39;49m\u001b[38;5;124;43m'\u001b[39;49m\u001b[43m,\u001b[49m\u001b[43m \u001b[49m\u001b[38;5;124;43m'\u001b[39;49m\u001b[38;5;124;43mERROR\u001b[39;49m\u001b[38;5;124;43m'\u001b[39;49m\u001b[43m]\u001b[49m\u001b[43m)\u001b[49m\n\u001b[1;32m     25\u001b[0m \u001b[38;5;28mprint\u001b[39m(\u001b[38;5;124m'\u001b[39m\u001b[38;5;124mSearching at coords: \u001b[39m\u001b[38;5;124m'\u001b[39m \u001b[38;5;241m+\u001b[39m \u001b[38;5;28mstr\u001b[39m(target[\u001b[38;5;124m'\u001b[39m\u001b[38;5;124mcoord_ra\u001b[39m\u001b[38;5;124m'\u001b[39m]) \u001b[38;5;241m+\u001b[39m \u001b[38;5;124m'\u001b[39m\u001b[38;5;124m  \u001b[39m\u001b[38;5;124m'\u001b[39m \u001b[38;5;241m+\u001b[39m \u001b[38;5;28mstr\u001b[39m(target[\u001b[38;5;124m'\u001b[39m\u001b[38;5;124mcoord_dec\u001b[39m\u001b[38;5;124m'\u001b[39m]) \u001b[38;5;241m+\u001b[39m \u001b[38;5;124m'\u001b[39m\u001b[38;5;124m \u001b[39m\u001b[38;5;124m'\u001b[39m \u001b[38;5;241m+\u001b[39m \u001b[38;5;28mrepr\u001b[39m(job\u001b[38;5;241m.\u001b[39mphase))\n\u001b[1;32m     26\u001b[0m \u001b[38;5;28;01mif\u001b[39;00m job\u001b[38;5;241m.\u001b[39mphase \u001b[38;5;241m==\u001b[39m \u001b[38;5;124m'\u001b[39m\u001b[38;5;124mERROR\u001b[39m\u001b[38;5;124m'\u001b[39m:\n",
      "File \u001b[0;32m/opt/lsst/software/stack/conda/envs/lsst-scipipe-10.0.0/lib/python3.12/site-packages/pyvo/dal/tap.py:973\u001b[0m, in \u001b[0;36mAsyncTAPJob.wait\u001b[0;34m(self, phases, timeout)\u001b[0m\n\u001b[1;32m    969\u001b[0m active_phases \u001b[38;5;241m=\u001b[39m {\n\u001b[1;32m    970\u001b[0m     \u001b[38;5;124m\"\u001b[39m\u001b[38;5;124mQUEUED\u001b[39m\u001b[38;5;124m\"\u001b[39m, \u001b[38;5;124m\"\u001b[39m\u001b[38;5;124mEXECUTING\u001b[39m\u001b[38;5;124m\"\u001b[39m, \u001b[38;5;124m\"\u001b[39m\u001b[38;5;124mRUN\u001b[39m\u001b[38;5;124m\"\u001b[39m, \u001b[38;5;124m\"\u001b[39m\u001b[38;5;124mCOMPLETED\u001b[39m\u001b[38;5;124m\"\u001b[39m, \u001b[38;5;124m\"\u001b[39m\u001b[38;5;124mERROR\u001b[39m\u001b[38;5;124m\"\u001b[39m, \u001b[38;5;124m\"\u001b[39m\u001b[38;5;124mUNKNOWN\u001b[39m\u001b[38;5;124m\"\u001b[39m}\n\u001b[1;32m    972\u001b[0m \u001b[38;5;28;01mwhile\u001b[39;00m \u001b[38;5;28;01mTrue\u001b[39;00m:\n\u001b[0;32m--> 973\u001b[0m     \u001b[38;5;28;43mself\u001b[39;49m\u001b[38;5;241;43m.\u001b[39;49m\u001b[43m_update\u001b[49m\u001b[43m(\u001b[49m\u001b[43mwait_for_statechange\u001b[49m\u001b[38;5;241;43m=\u001b[39;49m\u001b[38;5;28;43;01mTrue\u001b[39;49;00m\u001b[43m,\u001b[49m\u001b[43m \u001b[49m\u001b[43mtimeout\u001b[49m\u001b[38;5;241;43m=\u001b[39;49m\u001b[43mtimeout\u001b[49m\u001b[43m)\u001b[49m\n\u001b[1;32m    974\u001b[0m     \u001b[38;5;66;03m# use the cached value\u001b[39;00m\n\u001b[1;32m    975\u001b[0m     cur_phase \u001b[38;5;241m=\u001b[39m \u001b[38;5;28mself\u001b[39m\u001b[38;5;241m.\u001b[39m_job\u001b[38;5;241m.\u001b[39mphase\n",
      "File \u001b[0;32m/opt/lsst/software/stack/conda/envs/lsst-scipipe-10.0.0/lib/python3.12/site-packages/pyvo/dal/tap.py:701\u001b[0m, in \u001b[0;36mAsyncTAPJob._update\u001b[0;34m(self, wait_for_statechange, timeout)\u001b[0m\n\u001b[1;32m    699\u001b[0m \u001b[38;5;28;01mtry\u001b[39;00m:\n\u001b[1;32m    700\u001b[0m     \u001b[38;5;28;01mif\u001b[39;00m wait_for_statechange:\n\u001b[0;32m--> 701\u001b[0m         response \u001b[38;5;241m=\u001b[39m \u001b[38;5;28;43mself\u001b[39;49m\u001b[38;5;241;43m.\u001b[39;49m\u001b[43m_session\u001b[49m\u001b[38;5;241;43m.\u001b[39;49m\u001b[43mget\u001b[49m\u001b[43m(\u001b[49m\n\u001b[1;32m    702\u001b[0m \u001b[43m            \u001b[49m\u001b[38;5;28;43mself\u001b[39;49m\u001b[38;5;241;43m.\u001b[39;49m\u001b[43murl\u001b[49m\u001b[43m,\u001b[49m\u001b[43m \u001b[49m\u001b[43mstream\u001b[49m\u001b[38;5;241;43m=\u001b[39;49m\u001b[38;5;28;43;01mTrue\u001b[39;49;00m\u001b[43m,\u001b[49m\u001b[43m \u001b[49m\u001b[43mtimeout\u001b[49m\u001b[38;5;241;43m=\u001b[39;49m\u001b[43mtimeout\u001b[49m\u001b[43m,\u001b[49m\u001b[43m \u001b[49m\u001b[43mparams\u001b[49m\u001b[38;5;241;43m=\u001b[39;49m\u001b[43m{\u001b[49m\n\u001b[1;32m    703\u001b[0m \u001b[43m                \u001b[49m\u001b[38;5;124;43m\"\u001b[39;49m\u001b[38;5;124;43mWAIT\u001b[39;49m\u001b[38;5;124;43m\"\u001b[39;49m\u001b[43m:\u001b[49m\u001b[43m \u001b[49m\u001b[38;5;124;43m\"\u001b[39;49m\u001b[38;5;124;43m-1\u001b[39;49m\u001b[38;5;124;43m\"\u001b[39;49m\n\u001b[1;32m    704\u001b[0m \u001b[43m            \u001b[49m\u001b[43m}\u001b[49m\n\u001b[1;32m    705\u001b[0m \u001b[43m        \u001b[49m\u001b[43m)\u001b[49m\n\u001b[1;32m    706\u001b[0m     \u001b[38;5;28;01melse\u001b[39;00m:\n\u001b[1;32m    707\u001b[0m         response \u001b[38;5;241m=\u001b[39m \u001b[38;5;28mself\u001b[39m\u001b[38;5;241m.\u001b[39m_session\u001b[38;5;241m.\u001b[39mget(\u001b[38;5;28mself\u001b[39m\u001b[38;5;241m.\u001b[39murl, stream\u001b[38;5;241m=\u001b[39m\u001b[38;5;28;01mTrue\u001b[39;00m, timeout\u001b[38;5;241m=\u001b[39mtimeout)\n",
      "File \u001b[0;32m/opt/lsst/software/stack/conda/envs/lsst-scipipe-10.0.0/lib/python3.12/site-packages/pyvo/auth/authsession.py:64\u001b[0m, in \u001b[0;36mAuthSession.get\u001b[0;34m(self, url, **kwargs)\u001b[0m\n\u001b[1;32m     60\u001b[0m \u001b[38;5;28;01mdef\u001b[39;00m\u001b[38;5;250m \u001b[39m\u001b[38;5;21mget\u001b[39m(\u001b[38;5;28mself\u001b[39m, url, \u001b[38;5;241m*\u001b[39m\u001b[38;5;241m*\u001b[39mkwargs):\n\u001b[1;32m     61\u001b[0m \u001b[38;5;250m    \u001b[39m\u001b[38;5;124;03m\"\"\"\u001b[39;00m\n\u001b[1;32m     62\u001b[0m \u001b[38;5;124;03m    Wrapper to make a HTTP GET request with authentication.\u001b[39;00m\n\u001b[1;32m     63\u001b[0m \u001b[38;5;124;03m    \"\"\"\u001b[39;00m\n\u001b[0;32m---> 64\u001b[0m     \u001b[38;5;28;01mreturn\u001b[39;00m \u001b[38;5;28;43mself\u001b[39;49m\u001b[38;5;241;43m.\u001b[39;49m\u001b[43m_request\u001b[49m\u001b[43m(\u001b[49m\u001b[38;5;124;43m'\u001b[39;49m\u001b[38;5;124;43mGET\u001b[39;49m\u001b[38;5;124;43m'\u001b[39;49m\u001b[43m,\u001b[49m\u001b[43m \u001b[49m\u001b[43murl\u001b[49m\u001b[43m,\u001b[49m\u001b[43m \u001b[49m\u001b[38;5;241;43m*\u001b[39;49m\u001b[38;5;241;43m*\u001b[39;49m\u001b[43mkwargs\u001b[49m\u001b[43m)\u001b[49m\n",
      "File \u001b[0;32m/opt/lsst/software/stack/conda/envs/lsst-scipipe-10.0.0/lib/python3.12/site-packages/pyvo/auth/authsession.py:108\u001b[0m, in \u001b[0;36mAuthSession._request\u001b[0;34m(self, http_method, url, **kwargs)\u001b[0m\n\u001b[1;32m    105\u001b[0m logging\u001b[38;5;241m.\u001b[39mdebug(\u001b[38;5;124m'\u001b[39m\u001b[38;5;124mUsing auth method: \u001b[39m\u001b[38;5;132;01m%s\u001b[39;00m\u001b[38;5;124m'\u001b[39m, negotiated_method)\n\u001b[1;32m    107\u001b[0m session \u001b[38;5;241m=\u001b[39m \u001b[38;5;28mself\u001b[39m\u001b[38;5;241m.\u001b[39mcredentials\u001b[38;5;241m.\u001b[39mget(negotiated_method)\n\u001b[0;32m--> 108\u001b[0m \u001b[38;5;28;01mreturn\u001b[39;00m \u001b[43msession\u001b[49m\u001b[38;5;241;43m.\u001b[39;49m\u001b[43mrequest\u001b[49m\u001b[43m(\u001b[49m\u001b[43mhttp_method\u001b[49m\u001b[43m,\u001b[49m\u001b[43m \u001b[49m\u001b[43murl\u001b[49m\u001b[43m,\u001b[49m\u001b[43m \u001b[49m\u001b[38;5;241;43m*\u001b[39;49m\u001b[38;5;241;43m*\u001b[39;49m\u001b[43mkwargs\u001b[49m\u001b[43m)\u001b[49m\n",
      "File \u001b[0;32m/opt/lsst/software/stack/conda/envs/lsst-scipipe-10.0.0/lib/python3.12/site-packages/requests/sessions.py:589\u001b[0m, in \u001b[0;36mSession.request\u001b[0;34m(self, method, url, params, data, headers, cookies, files, auth, timeout, allow_redirects, proxies, hooks, stream, verify, cert, json)\u001b[0m\n\u001b[1;32m    584\u001b[0m send_kwargs \u001b[38;5;241m=\u001b[39m {\n\u001b[1;32m    585\u001b[0m     \u001b[38;5;124m\"\u001b[39m\u001b[38;5;124mtimeout\u001b[39m\u001b[38;5;124m\"\u001b[39m: timeout,\n\u001b[1;32m    586\u001b[0m     \u001b[38;5;124m\"\u001b[39m\u001b[38;5;124mallow_redirects\u001b[39m\u001b[38;5;124m\"\u001b[39m: allow_redirects,\n\u001b[1;32m    587\u001b[0m }\n\u001b[1;32m    588\u001b[0m send_kwargs\u001b[38;5;241m.\u001b[39mupdate(settings)\n\u001b[0;32m--> 589\u001b[0m resp \u001b[38;5;241m=\u001b[39m \u001b[38;5;28;43mself\u001b[39;49m\u001b[38;5;241;43m.\u001b[39;49m\u001b[43msend\u001b[49m\u001b[43m(\u001b[49m\u001b[43mprep\u001b[49m\u001b[43m,\u001b[49m\u001b[43m \u001b[49m\u001b[38;5;241;43m*\u001b[39;49m\u001b[38;5;241;43m*\u001b[39;49m\u001b[43msend_kwargs\u001b[49m\u001b[43m)\u001b[49m\n\u001b[1;32m    591\u001b[0m \u001b[38;5;28;01mreturn\u001b[39;00m resp\n",
      "File \u001b[0;32m/opt/lsst/software/stack/conda/envs/lsst-scipipe-10.0.0/lib/python3.12/site-packages/requests/sessions.py:703\u001b[0m, in \u001b[0;36mSession.send\u001b[0;34m(self, request, **kwargs)\u001b[0m\n\u001b[1;32m    700\u001b[0m start \u001b[38;5;241m=\u001b[39m preferred_clock()\n\u001b[1;32m    702\u001b[0m \u001b[38;5;66;03m# Send the request\u001b[39;00m\n\u001b[0;32m--> 703\u001b[0m r \u001b[38;5;241m=\u001b[39m \u001b[43madapter\u001b[49m\u001b[38;5;241;43m.\u001b[39;49m\u001b[43msend\u001b[49m\u001b[43m(\u001b[49m\u001b[43mrequest\u001b[49m\u001b[43m,\u001b[49m\u001b[43m \u001b[49m\u001b[38;5;241;43m*\u001b[39;49m\u001b[38;5;241;43m*\u001b[39;49m\u001b[43mkwargs\u001b[49m\u001b[43m)\u001b[49m\n\u001b[1;32m    705\u001b[0m \u001b[38;5;66;03m# Total elapsed time of the request (approximately)\u001b[39;00m\n\u001b[1;32m    706\u001b[0m elapsed \u001b[38;5;241m=\u001b[39m preferred_clock() \u001b[38;5;241m-\u001b[39m start\n",
      "File \u001b[0;32m/opt/lsst/software/stack/conda/envs/lsst-scipipe-10.0.0/lib/python3.12/site-packages/requests/adapters.py:667\u001b[0m, in \u001b[0;36mHTTPAdapter.send\u001b[0;34m(self, request, stream, timeout, verify, cert, proxies)\u001b[0m\n\u001b[1;32m    664\u001b[0m     timeout \u001b[38;5;241m=\u001b[39m TimeoutSauce(connect\u001b[38;5;241m=\u001b[39mtimeout, read\u001b[38;5;241m=\u001b[39mtimeout)\n\u001b[1;32m    666\u001b[0m \u001b[38;5;28;01mtry\u001b[39;00m:\n\u001b[0;32m--> 667\u001b[0m     resp \u001b[38;5;241m=\u001b[39m \u001b[43mconn\u001b[49m\u001b[38;5;241;43m.\u001b[39;49m\u001b[43murlopen\u001b[49m\u001b[43m(\u001b[49m\n\u001b[1;32m    668\u001b[0m \u001b[43m        \u001b[49m\u001b[43mmethod\u001b[49m\u001b[38;5;241;43m=\u001b[39;49m\u001b[43mrequest\u001b[49m\u001b[38;5;241;43m.\u001b[39;49m\u001b[43mmethod\u001b[49m\u001b[43m,\u001b[49m\n\u001b[1;32m    669\u001b[0m \u001b[43m        \u001b[49m\u001b[43murl\u001b[49m\u001b[38;5;241;43m=\u001b[39;49m\u001b[43murl\u001b[49m\u001b[43m,\u001b[49m\n\u001b[1;32m    670\u001b[0m \u001b[43m        \u001b[49m\u001b[43mbody\u001b[49m\u001b[38;5;241;43m=\u001b[39;49m\u001b[43mrequest\u001b[49m\u001b[38;5;241;43m.\u001b[39;49m\u001b[43mbody\u001b[49m\u001b[43m,\u001b[49m\n\u001b[1;32m    671\u001b[0m \u001b[43m        \u001b[49m\u001b[43mheaders\u001b[49m\u001b[38;5;241;43m=\u001b[39;49m\u001b[43mrequest\u001b[49m\u001b[38;5;241;43m.\u001b[39;49m\u001b[43mheaders\u001b[49m\u001b[43m,\u001b[49m\n\u001b[1;32m    672\u001b[0m \u001b[43m        \u001b[49m\u001b[43mredirect\u001b[49m\u001b[38;5;241;43m=\u001b[39;49m\u001b[38;5;28;43;01mFalse\u001b[39;49;00m\u001b[43m,\u001b[49m\n\u001b[1;32m    673\u001b[0m \u001b[43m        \u001b[49m\u001b[43massert_same_host\u001b[49m\u001b[38;5;241;43m=\u001b[39;49m\u001b[38;5;28;43;01mFalse\u001b[39;49;00m\u001b[43m,\u001b[49m\n\u001b[1;32m    674\u001b[0m \u001b[43m        \u001b[49m\u001b[43mpreload_content\u001b[49m\u001b[38;5;241;43m=\u001b[39;49m\u001b[38;5;28;43;01mFalse\u001b[39;49;00m\u001b[43m,\u001b[49m\n\u001b[1;32m    675\u001b[0m \u001b[43m        \u001b[49m\u001b[43mdecode_content\u001b[49m\u001b[38;5;241;43m=\u001b[39;49m\u001b[38;5;28;43;01mFalse\u001b[39;49;00m\u001b[43m,\u001b[49m\n\u001b[1;32m    676\u001b[0m \u001b[43m        \u001b[49m\u001b[43mretries\u001b[49m\u001b[38;5;241;43m=\u001b[39;49m\u001b[38;5;28;43mself\u001b[39;49m\u001b[38;5;241;43m.\u001b[39;49m\u001b[43mmax_retries\u001b[49m\u001b[43m,\u001b[49m\n\u001b[1;32m    677\u001b[0m \u001b[43m        \u001b[49m\u001b[43mtimeout\u001b[49m\u001b[38;5;241;43m=\u001b[39;49m\u001b[43mtimeout\u001b[49m\u001b[43m,\u001b[49m\n\u001b[1;32m    678\u001b[0m \u001b[43m        \u001b[49m\u001b[43mchunked\u001b[49m\u001b[38;5;241;43m=\u001b[39;49m\u001b[43mchunked\u001b[49m\u001b[43m,\u001b[49m\n\u001b[1;32m    679\u001b[0m \u001b[43m    \u001b[49m\u001b[43m)\u001b[49m\n\u001b[1;32m    681\u001b[0m \u001b[38;5;28;01mexcept\u001b[39;00m (ProtocolError, \u001b[38;5;167;01mOSError\u001b[39;00m) \u001b[38;5;28;01mas\u001b[39;00m err:\n\u001b[1;32m    682\u001b[0m     \u001b[38;5;28;01mraise\u001b[39;00m \u001b[38;5;167;01mConnectionError\u001b[39;00m(err, request\u001b[38;5;241m=\u001b[39mrequest)\n",
      "File \u001b[0;32m/opt/lsst/software/stack/conda/envs/lsst-scipipe-10.0.0/lib/python3.12/site-packages/urllib3/connectionpool.py:787\u001b[0m, in \u001b[0;36mHTTPConnectionPool.urlopen\u001b[0;34m(self, method, url, body, headers, retries, redirect, assert_same_host, timeout, pool_timeout, release_conn, chunked, body_pos, preload_content, decode_content, **response_kw)\u001b[0m\n\u001b[1;32m    784\u001b[0m response_conn \u001b[38;5;241m=\u001b[39m conn \u001b[38;5;28;01mif\u001b[39;00m \u001b[38;5;129;01mnot\u001b[39;00m release_conn \u001b[38;5;28;01melse\u001b[39;00m \u001b[38;5;28;01mNone\u001b[39;00m\n\u001b[1;32m    786\u001b[0m \u001b[38;5;66;03m# Make the request on the HTTPConnection object\u001b[39;00m\n\u001b[0;32m--> 787\u001b[0m response \u001b[38;5;241m=\u001b[39m \u001b[38;5;28;43mself\u001b[39;49m\u001b[38;5;241;43m.\u001b[39;49m\u001b[43m_make_request\u001b[49m\u001b[43m(\u001b[49m\n\u001b[1;32m    788\u001b[0m \u001b[43m    \u001b[49m\u001b[43mconn\u001b[49m\u001b[43m,\u001b[49m\n\u001b[1;32m    789\u001b[0m \u001b[43m    \u001b[49m\u001b[43mmethod\u001b[49m\u001b[43m,\u001b[49m\n\u001b[1;32m    790\u001b[0m \u001b[43m    \u001b[49m\u001b[43murl\u001b[49m\u001b[43m,\u001b[49m\n\u001b[1;32m    791\u001b[0m \u001b[43m    \u001b[49m\u001b[43mtimeout\u001b[49m\u001b[38;5;241;43m=\u001b[39;49m\u001b[43mtimeout_obj\u001b[49m\u001b[43m,\u001b[49m\n\u001b[1;32m    792\u001b[0m \u001b[43m    \u001b[49m\u001b[43mbody\u001b[49m\u001b[38;5;241;43m=\u001b[39;49m\u001b[43mbody\u001b[49m\u001b[43m,\u001b[49m\n\u001b[1;32m    793\u001b[0m \u001b[43m    \u001b[49m\u001b[43mheaders\u001b[49m\u001b[38;5;241;43m=\u001b[39;49m\u001b[43mheaders\u001b[49m\u001b[43m,\u001b[49m\n\u001b[1;32m    794\u001b[0m \u001b[43m    \u001b[49m\u001b[43mchunked\u001b[49m\u001b[38;5;241;43m=\u001b[39;49m\u001b[43mchunked\u001b[49m\u001b[43m,\u001b[49m\n\u001b[1;32m    795\u001b[0m \u001b[43m    \u001b[49m\u001b[43mretries\u001b[49m\u001b[38;5;241;43m=\u001b[39;49m\u001b[43mretries\u001b[49m\u001b[43m,\u001b[49m\n\u001b[1;32m    796\u001b[0m \u001b[43m    \u001b[49m\u001b[43mresponse_conn\u001b[49m\u001b[38;5;241;43m=\u001b[39;49m\u001b[43mresponse_conn\u001b[49m\u001b[43m,\u001b[49m\n\u001b[1;32m    797\u001b[0m \u001b[43m    \u001b[49m\u001b[43mpreload_content\u001b[49m\u001b[38;5;241;43m=\u001b[39;49m\u001b[43mpreload_content\u001b[49m\u001b[43m,\u001b[49m\n\u001b[1;32m    798\u001b[0m \u001b[43m    \u001b[49m\u001b[43mdecode_content\u001b[49m\u001b[38;5;241;43m=\u001b[39;49m\u001b[43mdecode_content\u001b[49m\u001b[43m,\u001b[49m\n\u001b[1;32m    799\u001b[0m \u001b[43m    \u001b[49m\u001b[38;5;241;43m*\u001b[39;49m\u001b[38;5;241;43m*\u001b[39;49m\u001b[43mresponse_kw\u001b[49m\u001b[43m,\u001b[49m\n\u001b[1;32m    800\u001b[0m \u001b[43m\u001b[49m\u001b[43m)\u001b[49m\n\u001b[1;32m    802\u001b[0m \u001b[38;5;66;03m# Everything went great!\u001b[39;00m\n\u001b[1;32m    803\u001b[0m clean_exit \u001b[38;5;241m=\u001b[39m \u001b[38;5;28;01mTrue\u001b[39;00m\n",
      "File \u001b[0;32m/opt/lsst/software/stack/conda/envs/lsst-scipipe-10.0.0/lib/python3.12/site-packages/urllib3/connectionpool.py:534\u001b[0m, in \u001b[0;36mHTTPConnectionPool._make_request\u001b[0;34m(self, conn, method, url, body, headers, retries, timeout, chunked, response_conn, preload_content, decode_content, enforce_content_length)\u001b[0m\n\u001b[1;32m    532\u001b[0m \u001b[38;5;66;03m# Receive the response from the server\u001b[39;00m\n\u001b[1;32m    533\u001b[0m \u001b[38;5;28;01mtry\u001b[39;00m:\n\u001b[0;32m--> 534\u001b[0m     response \u001b[38;5;241m=\u001b[39m \u001b[43mconn\u001b[49m\u001b[38;5;241;43m.\u001b[39;49m\u001b[43mgetresponse\u001b[49m\u001b[43m(\u001b[49m\u001b[43m)\u001b[49m\n\u001b[1;32m    535\u001b[0m \u001b[38;5;28;01mexcept\u001b[39;00m (BaseSSLError, \u001b[38;5;167;01mOSError\u001b[39;00m) \u001b[38;5;28;01mas\u001b[39;00m e:\n\u001b[1;32m    536\u001b[0m     \u001b[38;5;28mself\u001b[39m\u001b[38;5;241m.\u001b[39m_raise_timeout(err\u001b[38;5;241m=\u001b[39me, url\u001b[38;5;241m=\u001b[39murl, timeout_value\u001b[38;5;241m=\u001b[39mread_timeout)\n",
      "File \u001b[0;32m/opt/lsst/software/stack/conda/envs/lsst-scipipe-10.0.0/lib/python3.12/site-packages/urllib3/connection.py:565\u001b[0m, in \u001b[0;36mHTTPConnection.getresponse\u001b[0;34m(self)\u001b[0m\n\u001b[1;32m    562\u001b[0m _shutdown \u001b[38;5;241m=\u001b[39m \u001b[38;5;28mgetattr\u001b[39m(\u001b[38;5;28mself\u001b[39m\u001b[38;5;241m.\u001b[39msock, \u001b[38;5;124m\"\u001b[39m\u001b[38;5;124mshutdown\u001b[39m\u001b[38;5;124m\"\u001b[39m, \u001b[38;5;28;01mNone\u001b[39;00m)\n\u001b[1;32m    564\u001b[0m \u001b[38;5;66;03m# Get the response from http.client.HTTPConnection\u001b[39;00m\n\u001b[0;32m--> 565\u001b[0m httplib_response \u001b[38;5;241m=\u001b[39m \u001b[38;5;28;43msuper\u001b[39;49m\u001b[43m(\u001b[49m\u001b[43m)\u001b[49m\u001b[38;5;241;43m.\u001b[39;49m\u001b[43mgetresponse\u001b[49m\u001b[43m(\u001b[49m\u001b[43m)\u001b[49m\n\u001b[1;32m    567\u001b[0m \u001b[38;5;28;01mtry\u001b[39;00m:\n\u001b[1;32m    568\u001b[0m     assert_header_parsing(httplib_response\u001b[38;5;241m.\u001b[39mmsg)\n",
      "File \u001b[0;32m/opt/lsst/software/stack/conda/envs/lsst-scipipe-10.0.0/lib/python3.12/http/client.py:1430\u001b[0m, in \u001b[0;36mHTTPConnection.getresponse\u001b[0;34m(self)\u001b[0m\n\u001b[1;32m   1428\u001b[0m \u001b[38;5;28;01mtry\u001b[39;00m:\n\u001b[1;32m   1429\u001b[0m     \u001b[38;5;28;01mtry\u001b[39;00m:\n\u001b[0;32m-> 1430\u001b[0m         \u001b[43mresponse\u001b[49m\u001b[38;5;241;43m.\u001b[39;49m\u001b[43mbegin\u001b[49m\u001b[43m(\u001b[49m\u001b[43m)\u001b[49m\n\u001b[1;32m   1431\u001b[0m     \u001b[38;5;28;01mexcept\u001b[39;00m \u001b[38;5;167;01mConnectionError\u001b[39;00m:\n\u001b[1;32m   1432\u001b[0m         \u001b[38;5;28mself\u001b[39m\u001b[38;5;241m.\u001b[39mclose()\n",
      "File \u001b[0;32m/opt/lsst/software/stack/conda/envs/lsst-scipipe-10.0.0/lib/python3.12/http/client.py:331\u001b[0m, in \u001b[0;36mHTTPResponse.begin\u001b[0;34m(self)\u001b[0m\n\u001b[1;32m    329\u001b[0m \u001b[38;5;66;03m# read until we get a non-100 response\u001b[39;00m\n\u001b[1;32m    330\u001b[0m \u001b[38;5;28;01mwhile\u001b[39;00m \u001b[38;5;28;01mTrue\u001b[39;00m:\n\u001b[0;32m--> 331\u001b[0m     version, status, reason \u001b[38;5;241m=\u001b[39m \u001b[38;5;28;43mself\u001b[39;49m\u001b[38;5;241;43m.\u001b[39;49m\u001b[43m_read_status\u001b[49m\u001b[43m(\u001b[49m\u001b[43m)\u001b[49m\n\u001b[1;32m    332\u001b[0m     \u001b[38;5;28;01mif\u001b[39;00m status \u001b[38;5;241m!=\u001b[39m CONTINUE:\n\u001b[1;32m    333\u001b[0m         \u001b[38;5;28;01mbreak\u001b[39;00m\n",
      "File \u001b[0;32m/opt/lsst/software/stack/conda/envs/lsst-scipipe-10.0.0/lib/python3.12/http/client.py:292\u001b[0m, in \u001b[0;36mHTTPResponse._read_status\u001b[0;34m(self)\u001b[0m\n\u001b[1;32m    291\u001b[0m \u001b[38;5;28;01mdef\u001b[39;00m\u001b[38;5;250m \u001b[39m\u001b[38;5;21m_read_status\u001b[39m(\u001b[38;5;28mself\u001b[39m):\n\u001b[0;32m--> 292\u001b[0m     line \u001b[38;5;241m=\u001b[39m \u001b[38;5;28mstr\u001b[39m(\u001b[38;5;28;43mself\u001b[39;49m\u001b[38;5;241;43m.\u001b[39;49m\u001b[43mfp\u001b[49m\u001b[38;5;241;43m.\u001b[39;49m\u001b[43mreadline\u001b[49m\u001b[43m(\u001b[49m\u001b[43m_MAXLINE\u001b[49m\u001b[43m \u001b[49m\u001b[38;5;241;43m+\u001b[39;49m\u001b[43m \u001b[49m\u001b[38;5;241;43m1\u001b[39;49m\u001b[43m)\u001b[49m, \u001b[38;5;124m\"\u001b[39m\u001b[38;5;124miso-8859-1\u001b[39m\u001b[38;5;124m\"\u001b[39m)\n\u001b[1;32m    293\u001b[0m     \u001b[38;5;28;01mif\u001b[39;00m \u001b[38;5;28mlen\u001b[39m(line) \u001b[38;5;241m>\u001b[39m _MAXLINE:\n\u001b[1;32m    294\u001b[0m         \u001b[38;5;28;01mraise\u001b[39;00m LineTooLong(\u001b[38;5;124m\"\u001b[39m\u001b[38;5;124mstatus line\u001b[39m\u001b[38;5;124m\"\u001b[39m)\n",
      "File \u001b[0;32m/opt/lsst/software/stack/conda/envs/lsst-scipipe-10.0.0/lib/python3.12/socket.py:720\u001b[0m, in \u001b[0;36mSocketIO.readinto\u001b[0;34m(self, b)\u001b[0m\n\u001b[1;32m    718\u001b[0m \u001b[38;5;28;01mwhile\u001b[39;00m \u001b[38;5;28;01mTrue\u001b[39;00m:\n\u001b[1;32m    719\u001b[0m     \u001b[38;5;28;01mtry\u001b[39;00m:\n\u001b[0;32m--> 720\u001b[0m         \u001b[38;5;28;01mreturn\u001b[39;00m \u001b[38;5;28;43mself\u001b[39;49m\u001b[38;5;241;43m.\u001b[39;49m\u001b[43m_sock\u001b[49m\u001b[38;5;241;43m.\u001b[39;49m\u001b[43mrecv_into\u001b[49m\u001b[43m(\u001b[49m\u001b[43mb\u001b[49m\u001b[43m)\u001b[49m\n\u001b[1;32m    721\u001b[0m     \u001b[38;5;28;01mexcept\u001b[39;00m timeout:\n\u001b[1;32m    722\u001b[0m         \u001b[38;5;28mself\u001b[39m\u001b[38;5;241m.\u001b[39m_timeout_occurred \u001b[38;5;241m=\u001b[39m \u001b[38;5;28;01mTrue\u001b[39;00m\n",
      "File \u001b[0;32m/opt/lsst/software/stack/conda/envs/lsst-scipipe-10.0.0/lib/python3.12/ssl.py:1251\u001b[0m, in \u001b[0;36mSSLSocket.recv_into\u001b[0;34m(self, buffer, nbytes, flags)\u001b[0m\n\u001b[1;32m   1247\u001b[0m     \u001b[38;5;28;01mif\u001b[39;00m flags \u001b[38;5;241m!=\u001b[39m \u001b[38;5;241m0\u001b[39m:\n\u001b[1;32m   1248\u001b[0m         \u001b[38;5;28;01mraise\u001b[39;00m \u001b[38;5;167;01mValueError\u001b[39;00m(\n\u001b[1;32m   1249\u001b[0m           \u001b[38;5;124m\"\u001b[39m\u001b[38;5;124mnon-zero flags not allowed in calls to recv_into() on \u001b[39m\u001b[38;5;132;01m%s\u001b[39;00m\u001b[38;5;124m\"\u001b[39m \u001b[38;5;241m%\u001b[39m\n\u001b[1;32m   1250\u001b[0m           \u001b[38;5;28mself\u001b[39m\u001b[38;5;241m.\u001b[39m\u001b[38;5;18m__class__\u001b[39m)\n\u001b[0;32m-> 1251\u001b[0m     \u001b[38;5;28;01mreturn\u001b[39;00m \u001b[38;5;28;43mself\u001b[39;49m\u001b[38;5;241;43m.\u001b[39;49m\u001b[43mread\u001b[49m\u001b[43m(\u001b[49m\u001b[43mnbytes\u001b[49m\u001b[43m,\u001b[49m\u001b[43m \u001b[49m\u001b[43mbuffer\u001b[49m\u001b[43m)\u001b[49m\n\u001b[1;32m   1252\u001b[0m \u001b[38;5;28;01melse\u001b[39;00m:\n\u001b[1;32m   1253\u001b[0m     \u001b[38;5;28;01mreturn\u001b[39;00m \u001b[38;5;28msuper\u001b[39m()\u001b[38;5;241m.\u001b[39mrecv_into(buffer, nbytes, flags)\n",
      "File \u001b[0;32m/opt/lsst/software/stack/conda/envs/lsst-scipipe-10.0.0/lib/python3.12/ssl.py:1103\u001b[0m, in \u001b[0;36mSSLSocket.read\u001b[0;34m(self, len, buffer)\u001b[0m\n\u001b[1;32m   1101\u001b[0m \u001b[38;5;28;01mtry\u001b[39;00m:\n\u001b[1;32m   1102\u001b[0m     \u001b[38;5;28;01mif\u001b[39;00m buffer \u001b[38;5;129;01mis\u001b[39;00m \u001b[38;5;129;01mnot\u001b[39;00m \u001b[38;5;28;01mNone\u001b[39;00m:\n\u001b[0;32m-> 1103\u001b[0m         \u001b[38;5;28;01mreturn\u001b[39;00m \u001b[38;5;28;43mself\u001b[39;49m\u001b[38;5;241;43m.\u001b[39;49m\u001b[43m_sslobj\u001b[49m\u001b[38;5;241;43m.\u001b[39;49m\u001b[43mread\u001b[49m\u001b[43m(\u001b[49m\u001b[38;5;28;43mlen\u001b[39;49m\u001b[43m,\u001b[49m\u001b[43m \u001b[49m\u001b[43mbuffer\u001b[49m\u001b[43m)\u001b[49m\n\u001b[1;32m   1104\u001b[0m     \u001b[38;5;28;01melse\u001b[39;00m:\n\u001b[1;32m   1105\u001b[0m         \u001b[38;5;28;01mreturn\u001b[39;00m \u001b[38;5;28mself\u001b[39m\u001b[38;5;241m.\u001b[39m_sslobj\u001b[38;5;241m.\u001b[39mread(\u001b[38;5;28mlen\u001b[39m)\n",
      "\u001b[0;31mKeyboardInterrupt\u001b[0m: "
     ]
    }
   ],
   "source": [
    "target_radius = 0.5/3600.0\n",
    "\n",
    "with open('./mulens_candidates.dat', 'w') as fout:\n",
    "\n",
    "    fout.write('# diaObjectId   coord_ra  coord_dec  delta_chi_squared_kmt  t0  t_eff  f1  f0\\n')\n",
    "    \n",
    "    i = 0\n",
    "    maxi = len(objtab[mask])\n",
    "    while i <= maxi:\n",
    "        target = objtab[mask][i]\n",
    "        target['coord_ra']\n",
    "        query = \"SELECT fsodo.diaObjectId, fsodo.coord_ra, fsodo.coord_dec, \" \\\n",
    "                    \"fsodo.visit, fsodo.detector, fsodo.band, \" \\\n",
    "                    \"fsodo.psfDiffFlux, fsodo.psfDiffFluxErr, \" \\\n",
    "                    \"fsodo.psfFlux as psfFlux, fsodo.psfFluxErr, \" \\\n",
    "                    \"vis.expMidptMJD \" \\\n",
    "                    \"FROM dp1.ForcedSourceOnDiaObject as fsodo \" \\\n",
    "                    \"JOIN dp1.Visit as vis ON vis.visit = fsodo.visit \" \\\n",
    "                    \"WHERE CONTAINS (POINT('ICRS', coord_ra, coord_dec), \" \\\n",
    "                    \"CIRCLE('ICRS', \" + str(target['coord_ra']) + \", \" \\\n",
    "                    + str(target['coord_dec']) + \", \" + str(target_radius) + \")) = 1 \"\n",
    "        job = service.submit_job(query)\n",
    "        job.run()\n",
    "        job.wait(phases=['COMPLETED', 'ERROR'])\n",
    "        print('Searching at coords: ' + str(target['coord_ra']) + '  ' + str(target['coord_dec']) + ' ' + repr(job.phase))\n",
    "        if job.phase == 'ERROR':\n",
    "            job.raise_if_error()\n",
    "        assert job.phase == 'COMPLETED'\n",
    "        forced_sources = job.fetch_result().to_table()\n",
    "        print(' -> Found ' + str(np.sum((forced_sources['band'] == 'r'))) + ' observations')\n",
    "        \n",
    "        # If DiaObjects are found, assume for the moment that the top target is the closest match\n",
    "        # and run the KMTNet algorithm over all of r-band lightcurve data, since this seems to have the \n",
    "        # most visits\n",
    "        if len(forced_sources) > 0:\n",
    "            rband = np.where(forced_sources['band'] == 'r')\n",
    "            \n",
    "            times = forced_sources[rband]['expMidptMJD']\n",
    "            fluxes = forced_sources[rband]['psfFlux']\n",
    "            flux_err = forced_sources[rband]['psfFluxErr']\n",
    "            print('Extracting lightcurve for ' + target['diaObjectId'])\n",
    "            \n",
    "            delta_chi_squared_kmt, (t0, t_eff, f1, f0) = run_kmtnet_fit(times, fluxes, flux_err)\n",
    "\n",
    "            if delta_chi_squared_kmt > 0.9:\n",
    "                fout.write(str(target['diaObjectId']) \n",
    "                           + '  ' + str(target['coord_ra'])\n",
    "                           + '  ' + str(target['coord_dec']) \n",
    "                           + '  ' + str(delta_chi_squared_kmt)\n",
    "                           + '  ' + str(t0) \n",
    "                           + '  ' + str(t_eff) \n",
    "                           + '  ' + str(f1) \n",
    "                           + '  ' + str(f0)\n",
    "                           + '\\n')\n",
    "\n",
    "        i += 1"
   ]
  },
  {
   "cell_type": "code",
   "execution_count": null,
   "id": "0e0bf46b-7832-4f02-aaa0-f36329bd3da7",
   "metadata": {},
   "outputs": [],
   "source": []
  }
 ],
 "metadata": {
  "kernelspec": {
   "display_name": "LSST",
   "language": "python",
   "name": "lsst"
  },
  "language_info": {
   "codemirror_mode": {
    "name": "ipython",
    "version": 3
   },
   "file_extension": ".py",
   "mimetype": "text/x-python",
   "name": "python",
   "nbconvert_exporter": "python",
   "pygments_lexer": "ipython3",
   "version": "3.12.11"
  }
 },
 "nbformat": 4,
 "nbformat_minor": 5
}
