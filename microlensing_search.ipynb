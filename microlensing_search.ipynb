{
 "cells": [
  {
   "cell_type": "markdown",
   "id": "4703d404-1059-44c8-924b-b52547839bbe",
   "metadata": {},
   "source": [
    "# Search for Microlensing events in DP1"
   ]
  },
  {
   "cell_type": "code",
   "execution_count": 1,
   "id": "881445ed-db94-4b0b-bdea-b19ebd038e6f",
   "metadata": {
    "execution": {
     "iopub.execute_input": "2025-06-30T23:21:04.728733Z",
     "iopub.status.busy": "2025-06-30T23:21:04.728036Z",
     "iopub.status.idle": "2025-06-30T23:21:07.544979Z",
     "shell.execute_reply": "2025-06-30T23:21:07.544450Z",
     "shell.execute_reply.started": "2025-06-30T23:21:04.728706Z"
    }
   },
   "outputs": [],
   "source": [
    "import numpy as np\n",
    "import matplotlib.pyplot as plt\n",
    "from matplotlib.patches import Polygon\n",
    "import matplotlib.lines as mlines\n",
    "import itertools\n",
    "from astropy.coordinates import SkyCoord\n",
    "import astropy.units as u\n",
    "\n",
    "from lsst.rsp import get_tap_service\n",
    "from lsst.daf.butler import Butler\n",
    "import lsst.afw.display as afw_display\n",
    "import lsst.sphgeom as sphgeom\n",
    "import lsst.geom as geom\n",
    "from lsst.utils.plotting import (get_multiband_plot_colors,\n",
    "                                 get_multiband_plot_symbols,\n",
    "                                 get_multiband_plot_linestyles)\n",
    "import pandas as pd\n",
    "from scipy.optimize import minimize\n",
    "import warnings\n",
    "import weightedstats as ws"
   ]
  },
  {
   "cell_type": "code",
   "execution_count": 2,
   "id": "7ac46feb-3f21-47f3-a995-b0a6e6066bad",
   "metadata": {
    "execution": {
     "iopub.execute_input": "2025-06-30T23:21:08.213020Z",
     "iopub.status.busy": "2025-06-30T23:21:08.212357Z",
     "iopub.status.idle": "2025-06-30T23:21:08.245834Z",
     "shell.execute_reply": "2025-06-30T23:21:08.245278Z",
     "shell.execute_reply.started": "2025-06-30T23:21:08.212993Z"
    }
   },
   "outputs": [],
   "source": [
    "service = get_tap_service(\"tap\")\n",
    "assert service is not None"
   ]
  },
  {
   "cell_type": "code",
   "execution_count": 3,
   "id": "5f74de9a-5bbb-4f5a-8bbe-20c1d5c1f468",
   "metadata": {
    "execution": {
     "iopub.execute_input": "2025-06-30T23:21:08.550786Z",
     "iopub.status.busy": "2025-06-30T23:21:08.550239Z",
     "iopub.status.idle": "2025-06-30T23:21:08.927226Z",
     "shell.execute_reply": "2025-06-30T23:21:08.926600Z",
     "shell.execute_reply.started": "2025-06-30T23:21:08.550762Z"
    }
   },
   "outputs": [],
   "source": [
    "butler = Butler('dp1', collections=\"LSSTComCam/DP1\")\n",
    "assert butler is not None"
   ]
  },
  {
   "cell_type": "code",
   "execution_count": 4,
   "id": "8a624a1b-5dd6-48ba-923e-9cf0a1acdbd5",
   "metadata": {
    "execution": {
     "iopub.execute_input": "2025-06-30T23:21:09.110271Z",
     "iopub.status.busy": "2025-06-30T23:21:09.110002Z",
     "iopub.status.idle": "2025-06-30T23:21:09.113528Z",
     "shell.execute_reply": "2025-06-30T23:21:09.113004Z",
     "shell.execute_reply.started": "2025-06-30T23:21:09.110250Z"
    }
   },
   "outputs": [],
   "source": [
    "ra_cen = 95.0\n",
    "dec_cen = -25.0\n",
    "radius = 1.3\n",
    "region = sphgeom.Region.from_ivoa_pos(f\"CIRCLE {ra_cen} {dec_cen} {radius}\")"
   ]
  },
  {
   "cell_type": "code",
   "execution_count": null,
   "id": "d043a9cd-9a70-47f6-9987-8274fa4939c9",
   "metadata": {},
   "outputs": [],
   "source": [
    "# This queries the deep stacked object catalog\n",
    "query = \"\"\"\n",
    "        SELECT objectId, coord_ra, coord_dec,\n",
    "               u_psfMag, u_cModelMag, g_psfMag, g_cModelMag,\n",
    "               r_psfMag, r_cModelMag, i_psfMag, i_cModelMag,\n",
    "               z_psfMag, z_cModelMag, y_psfMag, y_cModelMag,\n",
    "               refExtendedness\n",
    "        FROM dp1.Object\n",
    "        WHERE CONTAINS(POINT('ICRS', coord_ra, coord_dec),\n",
    "              CIRCLE('ICRS', {}, {}, {})) = 1\n",
    "        ORDER BY objectId\n",
    "        \"\"\".format(ra_cen, dec_cen, radius)"
   ]
  },
  {
   "cell_type": "code",
   "execution_count": 16,
   "id": "52d4a28f-4540-4b8c-8c44-50ea3ec25f84",
   "metadata": {
    "execution": {
     "iopub.execute_input": "2025-06-30T23:28:01.693540Z",
     "iopub.status.busy": "2025-06-30T23:28:01.693201Z",
     "iopub.status.idle": "2025-06-30T23:28:01.696582Z",
     "shell.execute_reply": "2025-06-30T23:28:01.696110Z",
     "shell.execute_reply.started": "2025-06-30T23:28:01.693521Z"
    }
   },
   "outputs": [],
   "source": [
    "# This queries the catalog of objects that have multiple DIA measurements\n",
    "query = \"SELECT fsodo.diaObjectId, fsodo.ra, fsodo.dec, \"\\\n",
    "        \"fsodo.r_psfFluxMean as psfFlux, nDiaSources \"\\\n",
    "        \"FROM dp1.DiaObject as fsodo \"\\\n",
    "        \"WHERE CONTAINS (POINT('ICRS', ra, dec), \"\\\n",
    "        \"CIRCLE('ICRS', \" + str(ra_cen) + \", \"\\\n",
    "        + str(dec_cen) + \", \" + str(radius) + \")) = 1 \""
   ]
  },
  {
   "cell_type": "code",
   "execution_count": 17,
   "id": "32da77ed-67ea-49c1-82b4-820ec4414e0c",
   "metadata": {
    "execution": {
     "iopub.execute_input": "2025-06-30T23:28:02.352667Z",
     "iopub.status.busy": "2025-06-30T23:28:02.352427Z",
     "iopub.status.idle": "2025-06-30T23:28:17.659050Z",
     "shell.execute_reply": "2025-06-30T23:28:17.658429Z",
     "shell.execute_reply.started": "2025-06-30T23:28:02.352651Z"
    }
   },
   "outputs": [
    {
     "name": "stdout",
     "output_type": "stream",
     "text": [
      "Job phase is COMPLETED\n"
     ]
    }
   ],
   "source": [
    "job = service.submit_job(query)\n",
    "job.run()\n",
    "job.wait(phases=['COMPLETED', 'ERROR'])\n",
    "print('Job phase is', job.phase)\n",
    "if job.phase == 'ERROR':\n",
    "    job.raise_if_error()\n",
    "assert job.phase == 'COMPLETED'"
   ]
  },
  {
   "cell_type": "code",
   "execution_count": 18,
   "id": "33ba8422-b1f4-4a5a-b9d0-4e544a27e8da",
   "metadata": {
    "execution": {
     "iopub.execute_input": "2025-06-30T23:28:21.155501Z",
     "iopub.status.busy": "2025-06-30T23:28:21.154981Z",
     "iopub.status.idle": "2025-06-30T23:28:25.471934Z",
     "shell.execute_reply": "2025-06-30T23:28:25.471138Z",
     "shell.execute_reply.started": "2025-06-30T23:28:21.155483Z"
    }
   },
   "outputs": [],
   "source": [
    "objtab = job.fetch_result().to_table()"
   ]
  },
  {
   "cell_type": "code",
   "execution_count": 19,
   "id": "2941307f-ab85-4be6-baca-126043f69cfb",
   "metadata": {
    "execution": {
     "iopub.execute_input": "2025-06-30T23:28:38.655221Z",
     "iopub.status.busy": "2025-06-30T23:28:38.654972Z",
     "iopub.status.idle": "2025-06-30T23:28:38.663851Z",
     "shell.execute_reply": "2025-06-30T23:28:38.663372Z",
     "shell.execute_reply.started": "2025-06-30T23:28:38.655204Z"
    }
   },
   "outputs": [
    {
     "data": {
      "text/html": [
       "<div><i>Table length=238857</i>\n",
       "<table id=\"table139441678775792\" class=\"table-striped table-bordered table-condensed\">\n",
       "<thead><tr><th>diaObjectId</th><th>ra</th><th>dec</th><th>psfFlux</th><th>nDiaSources</th></tr></thead>\n",
       "<thead><tr><th></th><th>deg</th><th>deg</th><th></th><th></th></tr></thead>\n",
       "<thead><tr><th>int64</th><th>float64</th><th>float64</th><th>float64</th><th>int64</th></tr></thead>\n",
       "<tr><td>612929079095591167</td><td>95.50584991291737</td><td>-25.43623481213515</td><td>--</td><td>1</td></tr>\n",
       "<tr><td>612929010376114194</td><td>95.56475282537036</td><td>-25.427244666972765</td><td>--</td><td>1</td></tr>\n",
       "<tr><td>612929079095591192</td><td>95.47591663197441</td><td>-25.446999041791763</td><td>--</td><td>1</td></tr>\n",
       "<tr><td>612929079095591220</td><td>95.4529003199754</td><td>-25.442462402476313</td><td>--</td><td>1</td></tr>\n",
       "<tr><td>612929010376114187</td><td>95.54590171589811</td><td>-25.435482769010108</td><td>--</td><td>1</td></tr>\n",
       "<tr><td>612929079095591162</td><td>95.51116703790134</td><td>-25.425861422150064</td><td>--</td><td>1</td></tr>\n",
       "<tr><td>612929079095591164</td><td>95.51134574319903</td><td>-25.435051376918043</td><td>--</td><td>1</td></tr>\n",
       "<tr><td>612929079095591168</td><td>95.50382118560174</td><td>-25.439809246311864</td><td>--</td><td>1</td></tr>\n",
       "<tr><td>612929079095591169</td><td>95.50283169745838</td><td>-25.43602746659652</td><td>--</td><td>1</td></tr>\n",
       "<tr><td>...</td><td>...</td><td>...</td><td>...</td><td>...</td></tr>\n",
       "<tr><td>614435684903555175</td><td>94.97214298585648</td><td>-25.2104672579541</td><td>874.9435424804688</td><td>1</td></tr>\n",
       "<tr><td>614435684903551902</td><td>94.98084910448603</td><td>-25.26197043214573</td><td>--</td><td>1</td></tr>\n",
       "<tr><td>614435684903551903</td><td>94.98369338861485</td><td>-25.259612534172966</td><td>--</td><td>3</td></tr>\n",
       "<tr><td>614435684903555178</td><td>94.94056289303397</td><td>-25.285650734590504</td><td>864.3810424804688</td><td>1</td></tr>\n",
       "<tr><td>614435684903555177</td><td>94.9765118549917</td><td>-25.217653918266254</td><td>846.6112060546875</td><td>1</td></tr>\n",
       "<tr><td>614435684903555176</td><td>94.94228802164676</td><td>-25.24719025490883</td><td>2629.7744140625</td><td>1</td></tr>\n",
       "<tr><td>614435684903555174</td><td>94.9451568238031</td><td>-25.211278574657253</td><td>800.2245483398438</td><td>1</td></tr>\n",
       "<tr><td>614435684903551931</td><td>94.97462438912697</td><td>-25.21398536013193</td><td>--</td><td>1</td></tr>\n",
       "<tr><td>614435684903551932</td><td>94.96774805511025</td><td>-25.235994862814934</td><td>--</td><td>1</td></tr>\n",
       "</table></div>"
      ],
      "text/plain": [
       "<Table length=238857>\n",
       "   diaObjectId             ra        ...      psfFlux      nDiaSources\n",
       "                          deg        ...                              \n",
       "      int64             float64      ...      float64         int64   \n",
       "------------------ ----------------- ... ----------------- -----------\n",
       "612929079095591167 95.50584991291737 ...                --           1\n",
       "612929010376114194 95.56475282537036 ...                --           1\n",
       "612929079095591192 95.47591663197441 ...                --           1\n",
       "612929079095591220  95.4529003199754 ...                --           1\n",
       "612929010376114187 95.54590171589811 ...                --           1\n",
       "612929079095591162 95.51116703790134 ...                --           1\n",
       "612929079095591164 95.51134574319903 ...                --           1\n",
       "612929079095591168 95.50382118560174 ...                --           1\n",
       "612929079095591169 95.50283169745838 ...                --           1\n",
       "               ...               ... ...               ...         ...\n",
       "614435684903555175 94.97214298585648 ... 874.9435424804688           1\n",
       "614435684903551902 94.98084910448603 ...                --           1\n",
       "614435684903551903 94.98369338861485 ...                --           3\n",
       "614435684903555178 94.94056289303397 ... 864.3810424804688           1\n",
       "614435684903555177  94.9765118549917 ... 846.6112060546875           1\n",
       "614435684903555176 94.94228802164676 ...   2629.7744140625           1\n",
       "614435684903555174  94.9451568238031 ... 800.2245483398438           1\n",
       "614435684903551931 94.97462438912697 ...                --           1\n",
       "614435684903551932 94.96774805511025 ...                --           1"
      ]
     },
     "execution_count": 19,
     "metadata": {},
     "output_type": "execute_result"
    }
   ],
   "source": [
    "objtab"
   ]
  },
  {
   "cell_type": "code",
   "execution_count": 21,
   "id": "6b03317e-e14e-49c3-b824-f86bb2606868",
   "metadata": {
    "execution": {
     "iopub.execute_input": "2025-06-30T23:29:09.332602Z",
     "iopub.status.busy": "2025-06-30T23:29:09.332332Z",
     "iopub.status.idle": "2025-06-30T23:29:09.351586Z",
     "shell.execute_reply": "2025-06-30T23:29:09.351101Z",
     "shell.execute_reply.started": "2025-06-30T23:29:09.332585Z"
    }
   },
   "outputs": [
    {
     "name": "stdout",
     "output_type": "stream",
     "text": [
      "Found 88452 candidate targets\n"
     ]
    },
    {
     "data": {
      "text/html": [
       "<div><i>Table length=88452</i>\n",
       "<table id=\"table139441678828704\" class=\"table-striped table-bordered table-condensed\">\n",
       "<thead><tr><th>diaObjectId</th><th>ra</th><th>dec</th><th>psfFlux</th><th>nDiaSources</th></tr></thead>\n",
       "<thead><tr><th></th><th>deg</th><th>deg</th><th></th><th></th></tr></thead>\n",
       "<thead><tr><th>int64</th><th>float64</th><th>float64</th><th>float64</th><th>int64</th></tr></thead>\n",
       "<tr><td>614432386368667656</td><td>94.85386218271341</td><td>-24.35074318924317</td><td>107725.765625</td><td>2</td></tr>\n",
       "<tr><td>614432386368667662</td><td>94.86114461114828</td><td>-24.35158776710689</td><td>2114.142578125</td><td>1</td></tr>\n",
       "<tr><td>614439876791631903</td><td>94.8901840897857</td><td>-24.348360550466257</td><td>1501.431640625</td><td>1</td></tr>\n",
       "<tr><td>614439876791631895</td><td>94.87527006796239</td><td>-24.340040732718172</td><td>5422.7177734375</td><td>1</td></tr>\n",
       "<tr><td>614439876791631904</td><td>94.89201491232963</td><td>-24.34789455800214</td><td>2058.882080078125</td><td>1</td></tr>\n",
       "<tr><td>614439876791631896</td><td>94.88213011916905</td><td>-24.33393713898773</td><td>6783.5849609375</td><td>1</td></tr>\n",
       "<tr><td>614439876791631897</td><td>94.88052447446499</td><td>-24.336359124655417</td><td>180926.734375</td><td>1</td></tr>\n",
       "<tr><td>614439876791631905</td><td>94.8953599044305</td><td>-24.343636599599932</td><td>2185.64404296875</td><td>1</td></tr>\n",
       "<tr><td>614439876791631900</td><td>94.8897665544986</td><td>-24.34017426568342</td><td>380399.59375</td><td>1</td></tr>\n",
       "<tr><td>...</td><td>...</td><td>...</td><td>...</td><td>...</td></tr>\n",
       "<tr><td>614435684903555163</td><td>94.97123243446298</td><td>-25.245586269575384</td><td>891.1176147460938</td><td>1</td></tr>\n",
       "<tr><td>614435684903555162</td><td>94.95477264527936</td><td>-25.258748075102737</td><td>2960.031005859375</td><td>1</td></tr>\n",
       "<tr><td>614435684903555161</td><td>94.98352828317047</td><td>-25.211273962144446</td><td>-2748.6982421875</td><td>1</td></tr>\n",
       "<tr><td>614435684903551967</td><td>94.94860595734441</td><td>-25.252089749918206</td><td>2863.257568359375</td><td>5</td></tr>\n",
       "<tr><td>614435684903555175</td><td>94.97214298585648</td><td>-25.2104672579541</td><td>874.9435424804688</td><td>1</td></tr>\n",
       "<tr><td>614435684903555178</td><td>94.94056289303397</td><td>-25.285650734590504</td><td>864.3810424804688</td><td>1</td></tr>\n",
       "<tr><td>614435684903555177</td><td>94.9765118549917</td><td>-25.217653918266254</td><td>846.6112060546875</td><td>1</td></tr>\n",
       "<tr><td>614435684903555176</td><td>94.94228802164676</td><td>-25.24719025490883</td><td>2629.7744140625</td><td>1</td></tr>\n",
       "<tr><td>614435684903555174</td><td>94.9451568238031</td><td>-25.211278574657253</td><td>800.2245483398438</td><td>1</td></tr>\n",
       "</table></div>"
      ],
      "text/plain": [
       "<Table length=88452>\n",
       "   diaObjectId             ra        ...      psfFlux      nDiaSources\n",
       "                          deg        ...                              \n",
       "      int64             float64      ...      float64         int64   \n",
       "------------------ ----------------- ... ----------------- -----------\n",
       "614432386368667656 94.85386218271341 ...     107725.765625           2\n",
       "614432386368667662 94.86114461114828 ...    2114.142578125           1\n",
       "614439876791631903  94.8901840897857 ...    1501.431640625           1\n",
       "614439876791631895 94.87527006796239 ...   5422.7177734375           1\n",
       "614439876791631904 94.89201491232963 ... 2058.882080078125           1\n",
       "614439876791631896 94.88213011916905 ...   6783.5849609375           1\n",
       "614439876791631897 94.88052447446499 ...     180926.734375           1\n",
       "614439876791631905  94.8953599044305 ...  2185.64404296875           1\n",
       "614439876791631900  94.8897665544986 ...      380399.59375           1\n",
       "               ...               ... ...               ...         ...\n",
       "614435684903555163 94.97123243446298 ... 891.1176147460938           1\n",
       "614435684903555162 94.95477264527936 ... 2960.031005859375           1\n",
       "614435684903555161 94.98352828317047 ...  -2748.6982421875           1\n",
       "614435684903551967 94.94860595734441 ... 2863.257568359375           5\n",
       "614435684903555175 94.97214298585648 ... 874.9435424804688           1\n",
       "614435684903555178 94.94056289303397 ... 864.3810424804688           1\n",
       "614435684903555177  94.9765118549917 ... 846.6112060546875           1\n",
       "614435684903555176 94.94228802164676 ...   2629.7744140625           1\n",
       "614435684903555174  94.9451568238031 ... 800.2245483398438           1"
      ]
     },
     "execution_count": 21,
     "metadata": {},
     "output_type": "execute_result"
    }
   ],
   "source": [
    "# Select objects with valid iband magnitudes\n",
    "invmask = np.isnan(objtab['psfFlux'])\n",
    "mask = ~invmask\n",
    "ncand = len(np.where(mask)[0])\n",
    "print('Found ' + str(ncand) + ' candidate targets')\n",
    "objtab[mask]"
   ]
  },
  {
   "cell_type": "code",
   "execution_count": 22,
   "id": "d421590e-e256-44b1-9c3c-3b67ca4b2b58",
   "metadata": {
    "execution": {
     "iopub.execute_input": "2025-06-30T23:30:08.850187Z",
     "iopub.status.busy": "2025-06-30T23:30:08.849950Z",
     "iopub.status.idle": "2025-06-30T23:30:08.863799Z",
     "shell.execute_reply": "2025-06-30T23:30:08.863232Z",
     "shell.execute_reply.started": "2025-06-30T23:30:08.850172Z"
    }
   },
   "outputs": [],
   "source": [
    "# ATOUSHA'S IMPLEMENTATION OF THE KMTNet DETECTION ALGORITHM\n",
    "def run_kmtnet_fit(times, fluxes, flux_errors):\n",
    "\n",
    "    \"\"\"\n",
    "    Fit a two-parameter PSPL (KMTNet-Algorithm) model to a light curve,\n",
    "    using a grid search over t0 and t_eff,\n",
    "    and return Delta_Chi2 along with best-fit parameters.\n",
    "    \"\"\"\n",
    "\n",
    "    # Ensure inputs are numpy arrays\n",
    "    times = np.asarray(times)\n",
    "    fluxes = np.asarray(fluxes)\n",
    "    flux_errors = np.asarray(flux_errors)\n",
    "\n",
    "    # Filter out NaNs from input data before creating DataFrame\n",
    "    valid_data_indices = ~np.isnan(times) & ~np.isnan(fluxes) & ~np.isnan(flux_errors) & (flux_errors > 0)\n",
    "    times, fluxes, flux_errors = times[valid_data_indices], fluxes[valid_data_indices], flux_errors[valid_data_indices]\n",
    "\n",
    "    if len(times) < 5: # KMTNet fit needs sufficient data points\n",
    "        return None, None, None # Not enough data for KMTNet fit\n",
    "\n",
    "    data_df = pd.DataFrame({\n",
    "        'time': times,\n",
    "        'flux': fluxes,\n",
    "        'flux_err': flux_errors\n",
    "    })\n",
    "\n",
    "    # --- Model Definitions ---\n",
    "    # Functions for high and low magnification regimes,\n",
    "    # params: (t, f_1, f_0, t0, t_eff)\n",
    "    \n",
    "    def Ft_high(t, f_1, f_0, t0, t_eff):\n",
    "        # High-mag analytic approximation \n",
    "        Q = 1 + ((t - t0) / t_eff)**2\n",
    "        return np.abs(f_1) * (Q**(-1.0 / 2)) + np.abs(f_0)\n",
    "\n",
    "    def Ft_low(t, f_1, f_0, t0, t_eff):\n",
    "         # Low-mag analytic approximation\n",
    "        Q = 1 + ((t - t0) / t_eff)**2\n",
    "        return np.abs(f_1) * (1 - (1 + Q / 2)**-2)**(-1.0 / 2) + np.abs(f_0)\n",
    "\n",
    "     # --- Chi2 Functions for Minimization ---\n",
    "    def chi2_high(f_params, t, flux, flux_err, t0, teff):\n",
    "        # Compute chi^2 for the high-mag model (minimize over f1, f0)\n",
    "        f_1, f_0 = f_params\n",
    "        model = Ft_high(t, f_1, f_0, t0, teff)\n",
    "        inv_sigma2 = 1.0 / (flux_err**2)\n",
    "        return np.sum((flux - model)**2 * inv_sigma2)\n",
    "\n",
    "    def chi2_low(f_params, t, flux, flux_err, t0, teff):\n",
    "        # Compute chi^2 for the low-mag model\n",
    "        f_1, f_0 = f_params\n",
    "        model = Ft_low(t, f_1, f_0, t0, teff)\n",
    "        inv_sigma2 = 1.0 / (flux_err**2)\n",
    "        return np.sum((flux - model)**2 * inv_sigma2)\n",
    "\n",
    "    # --- Grid Search: Build t0-teff grid for nonlinear fitting ---\n",
    "    teff_min, teff_max = 1, 100\n",
    "    teff_list, t0_tE_list = [], []\n",
    "    current_teff = teff_min\n",
    "\n",
    "    # Build teff grid (teff_{k+1} = (1 + delta) * teff_k)\n",
    "    while current_teff <= teff_max:\n",
    "        teff_list.append(current_teff)\n",
    "        delta = 1/5 if current_teff < 1 else 1/3\n",
    "        current_teff *= (1 + delta)\n",
    "\n",
    "    # For each teff, build the grid of t0 values\n",
    "    t0_min, t0_max = np.min(times), np.max(times)\n",
    "    for teff in teff_list:\n",
    "        t0_current = t0_min\n",
    "        while t0_current <= t0_max:\n",
    "            t0_tE_list.append([t0_current, teff])\n",
    "            delta = 1/5 if teff < 1 else 1/3\n",
    "            t0_current += delta * teff\n",
    "\n",
    "    # If no grid was produced, exit\n",
    "    if not t0_tE_list: return None, None, None\n",
    "\n",
    "\n",
    "    # --- Main Grid Fit Loop ---\n",
    "    param1, param2 = [], []  # Will store fit results for high and low mag regimes\n",
    "    f_initial = [0.01, 0.99] # Initial guess for f_1, f_0\n",
    "\n",
    "    for i, (t0_val, teff_val) in enumerate(t0_tE_list):\n",
    "        # For each grid point, select data within the relevant window (t0 ± 7 teff)\n",
    "        df_i = data_df[(data_df['time'] > (t0_val - 7 * teff_val)) & (data_df['time'] < (t0_val + 7 * teff_val))]\n",
    "\n",
    "        if len(df_i) < 10:\n",
    "            continue # Skip if not enough data in interval\n",
    "\n",
    "        # Prepare arguments for minimize (t, flux, flux_err, t0_val, teff_val)\n",
    "        args = (df_i['time'].values, df_i['flux'].values, df_i['flux_err'].values, t0_val, teff_val)\n",
    "\n",
    "        try:\n",
    "            # Fit the high-magnification model for current grid point\n",
    "            result1 = minimize(chi2_high, f_initial, args=args, method='BFGS')\n",
    "            # Compute chi2 for the entire dataset using best-fit parameters\n",
    "            model_diff1 = data_df['flux'].values - Ft_high(data_df['time'].values, result1.x[0], result1.x[1], t0_val, teff_val)\n",
    "            chi2_all1 = np.sum((model_diff1)**2 * (1.0 / (data_df['flux_err'].values**2)))\n",
    "\n",
    "\n",
    "            # Fit the low-magnification model\n",
    "            result2 = minimize(chi2_low, f_initial, args=args, method='BFGS')\n",
    "            model_diff2 = data_df['flux'].values - Ft_low(data_df['time'].values, result2.x[0], result2.x[1], t0_val, teff_val)\n",
    "            chi2_all2 = np.sum((model_diff2)**2 * (1.0 / (data_df['flux_err'].values**2)))\n",
    "\n",
    "            # Store: [index, t0, teff, f1, f0, local_chi2, window_npts, global_chi2, npts]\n",
    "            param1.append([i, t0_val, teff_val, result1.x[0], result1.x[1], result1.fun,\n",
    "                            len(df_i), chi2_all1, len(data_df)])\n",
    "            param2.append([i, t0_val, teff_val, result2.x[0], result2.x[1], result2.fun,\n",
    "                            len(df_i), chi2_all2, len(data_df)])\n",
    "        except Exception as e:\n",
    "            # If optimization fails, print a warning but continue\n",
    "            print(f\"Warning: KMTNet minimize failed for iteration {i}: {e}\")\n",
    "            continue \n",
    "\n",
    "    # If no fits were successful, exit\n",
    "    if not param1 and not param2: return None, None, None \n",
    "\n",
    "    # --- Select Best-fit Parameters ---\n",
    "    # Find best fits: lowest chi2 on entire dataset for both regimes\n",
    "    min_value1 = min(param1, key=lambda x: x[7])\n",
    "    min_value2 = min(param2, key=lambda x: x[7])\n",
    "\n",
    "    # Use the regime (high or low mag) with the best global chi2\n",
    "    if min_value1 < min_value2:\n",
    "              min_value = min_value1\n",
    "              param = param1\n",
    "              F_t = Ft_high\n",
    "              which_regim = 'high'\n",
    "\n",
    "    else:\n",
    "              min_value = min_value2\n",
    "              param = param2\n",
    "              F_t = Ft_low\n",
    "              which_regim = 'low'\n",
    "\n",
    "    # Extract the precise parameters where chi2 is minimized\n",
    "    for sublist in param:\n",
    "        if sublist[7] == min_value[7]:\n",
    "            parameter = sublist\n",
    "\n",
    "\n",
    "\n",
    "    chi_mlens = parameter[7] # Minimum chi2 for microlensing fit\n",
    "    t0 = parameter[1]\n",
    "    t_eff = parameter[2]\n",
    "    f1 = parameter[3]\n",
    "    f0 = parameter[4]\n",
    "\n",
    "    # --- Linear Fit for Flat Model ---\n",
    "    # Fit a constant flux to the light curve in the same window\n",
    "    data_df_interval = data_df[(data_df['time'] > (t0 - 7 * t_eff)) & (data_df['time'] < (t0 + 7 * t_eff))]\n",
    "\n",
    "    if len(data_df_interval) == 0:\n",
    "        # Fallback to global mean if window is empty\n",
    "        mean_flux_interval = np.mean(data_df['flux'].values)\n",
    "    else:\n",
    "        # Ensure weights are valid (not zero or inf)\n",
    "        weights = 1.0 / (data_df_interval['flux_err'].values**2)\n",
    "        valid_weights_indices = ~np.isinf(weights) & ~np.isnan(weights) & (weights > 0)\n",
    "        if np.sum(valid_weights_indices) > 0:\n",
    "            mean_flux_interval = ws.weighted_mean(data_df_interval['flux'].values[valid_weights_indices],\n",
    "                                                  weights[valid_weights_indices])\n",
    "        else:\n",
    "            mean_flux_interval = np.mean(data_df['flux'].values)\n",
    "\n",
    "    # Compute chi2 for flat line fit\n",
    "    chi2_linearfit = np.sum((data_df['flux'] - mean_flux_interval)**2 / (data_df['flux_err']) ** 2)\n",
    "\n",
    "\n",
    "     # --- Compute Metric and Return ---\n",
    "    if chi2_linearfit == 0:\n",
    "        delta_chi_squared_kmt = 0\n",
    "    else:\n",
    "        delta_chi_squared_kmt = (abs(chi_mlens - chi2_linearfit) / chi2_linearfit)\n",
    "\n",
    "    # Return: delta chi2, best-fit physical params\n",
    "    # If delta_chi_squared_kmt > 0.9, the light curve would be a microlensing candidate.\n",
    "    return delta_chi_squared_kmt, (t0, t_eff, f1, f0)\n"
   ]
  },
  {
   "cell_type": "code",
   "execution_count": null,
   "id": "7c9016bf-df48-4833-aaac-816f678aaa45",
   "metadata": {
    "execution": {
     "iopub.execute_input": "2025-06-30T23:32:37.254959Z",
     "iopub.status.busy": "2025-06-30T23:32:37.254553Z"
    }
   },
   "outputs": [
    {
     "name": "stdout",
     "output_type": "stream",
     "text": [
      "Searching at coords: 94.8501064490477  -25.423715916488856 'COMPLETED'\n",
      " -> Found 17 observations\n",
      " => 612929285254021406 delta chisq=0.2777280265779532\n",
      "Searching at coords: 94.58991830028634  -24.809717992964284 'COMPLETED'\n",
      " -> Found 15 observations\n",
      " => 614430462223319153 delta chisq=0.06853920882286495\n",
      "Searching at coords: 94.59143033247354  -24.820507826095007 'COMPLETED'\n",
      " -> Found 18 observations\n",
      " => 614430462223319157 delta chisq=0.21386378565208064\n",
      "Searching at coords: 94.57188957421376  -24.86148846197155 'COMPLETED'\n",
      " -> Found 20 observations\n",
      " => 614430462223319065 delta chisq=0.1550031587266126\n",
      "Searching at coords: 94.58827265001361  -24.820001684825392 'COMPLETED'\n",
      " -> Found 17 observations\n",
      " => 614430462223319064 delta chisq=0.13334688359814834\n",
      "Searching at coords: 94.57419334152205  -24.81698884654697 'COMPLETED'\n",
      " -> Found 15 observations\n",
      " => 614430462223319090 delta chisq=0.08483291078461105\n",
      "Searching at coords: 94.58029568473067  -24.869508608221803 'COMPLETED'\n",
      " -> Found 26 observations\n",
      " => 614430462223319042 delta chisq=0.7584341615364681\n",
      "Searching at coords: 94.58027396098288  -24.8738493110707 'COMPLETED'\n",
      " -> Found 27 observations\n"
     ]
    }
   ],
   "source": [
    "target_radius = 0.5/3600.0\n",
    "\n",
    "with open('./mulens_candidates.dat', 'w') as fout:\n",
    "\n",
    "    fout.write('# diaObjectId   coord_ra  coord_dec  delta_chi_squared_kmt  t0  t_eff  f1  f0\\n')\n",
    "    \n",
    "\n",
    "    for target in objtab[mask]:\n",
    "        if target['nDiaSources'] > 50:\n",
    "            query = \"SELECT fsodo.diaObjectId, fsodo.coord_ra, fsodo.coord_dec, \" \\\n",
    "                        \"fsodo.visit, fsodo.detector, fsodo.band, \" \\\n",
    "                        \"fsodo.psfDiffFlux, fsodo.psfDiffFluxErr, \" \\\n",
    "                        \"fsodo.psfFlux as psfFlux, fsodo.psfFluxErr, \" \\\n",
    "                        \"vis.expMidptMJD \" \\\n",
    "                        \"FROM dp1.ForcedSourceOnDiaObject as fsodo \" \\\n",
    "                        \"JOIN dp1.Visit as vis ON vis.visit = fsodo.visit \" \\\n",
    "                        \"WHERE CONTAINS (POINT('ICRS', coord_ra, coord_dec), \" \\\n",
    "                        \"CIRCLE('ICRS', \" + str(target['ra']) + \", \" \\\n",
    "                        + str(target['dec']) + \", \" + str(target_radius) + \")) = 1 \"\n",
    "            job = service.submit_job(query)\n",
    "            job.run()\n",
    "            job.wait(phases=['COMPLETED', 'ERROR'])\n",
    "            print('Searching at coords: ' + str(target['ra']) + '  ' + str(target['dec']) + ' ' + repr(job.phase))\n",
    "            if job.phase == 'ERROR':\n",
    "                job.raise_if_error()\n",
    "            assert job.phase == 'COMPLETED'\n",
    "            forced_sources = job.fetch_result().to_table()\n",
    "            print(' -> Found ' + str(np.sum((forced_sources['band'] == 'r'))) + ' observations')\n",
    "            #print(forced_sources)\n",
    "            \n",
    "            # If DiaObjects are found, assume for the moment that the top target is the closest match\n",
    "            # and run the KMTNet algorithm over all of r-band lightcurve data, since this seems to have the \n",
    "            # most visits\n",
    "            if len(forced_sources) > 0:\n",
    "                rband = np.where(forced_sources['band'] == 'r')\n",
    "                \n",
    "                times = forced_sources[rband]['expMidptMJD']\n",
    "                fluxes = forced_sources[rband]['psfFlux']\n",
    "                flux_err = forced_sources[rband]['psfFluxErr']\n",
    "                \n",
    "                delta_chi_squared_kmt, (t0, t_eff, f1, f0) = run_kmtnet_fit(times, fluxes, flux_err)\n",
    "    \n",
    "                print(' => ' + str(target['diaObjectId']) + ' delta chisq=' + str(delta_chi_squared_kmt))\n",
    "                \n",
    "                if delta_chi_squared_kmt >= 0.9:\n",
    "                    fout.write(str(target['diaObjectId'])\n",
    "                               + '  ' + str(target['ra'])\n",
    "                               + '  ' + str(target['dec']) \n",
    "                               + '  ' + str(delta_chi_squared_kmt)\n",
    "                               + '  ' + str(t0) \n",
    "                               + '  ' + str(t_eff) \n",
    "                               + '  ' + str(f1) \n",
    "                               + '  ' + str(f0)\n",
    "                               + '\\n')\n"
   ]
  },
  {
   "cell_type": "code",
   "execution_count": null,
   "id": "0e0bf46b-7832-4f02-aaa0-f36329bd3da7",
   "metadata": {},
   "outputs": [],
   "source": []
  }
 ],
 "metadata": {
  "kernelspec": {
   "display_name": "LSST",
   "language": "python",
   "name": "lsst"
  },
  "language_info": {
   "codemirror_mode": {
    "name": "ipython",
    "version": 3
   },
   "file_extension": ".py",
   "mimetype": "text/x-python",
   "name": "python",
   "nbconvert_exporter": "python",
   "pygments_lexer": "ipython3",
   "version": "3.12.11"
  }
 },
 "nbformat": 4,
 "nbformat_minor": 5
}
